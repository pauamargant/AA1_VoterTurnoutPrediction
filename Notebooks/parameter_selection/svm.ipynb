{
 "cells": [
  {
   "attachments": {},
   "cell_type": "markdown",
   "id": "67190fac",
   "metadata": {
    "papermill": {
     "duration": 0.005923,
     "end_time": "2023-05-31T14:46:04.330820",
     "exception": false,
     "start_time": "2023-05-31T14:46:04.324897",
     "status": "completed"
    },
    "tags": []
   },
   "source": [
    "## Modeling - SVM - Parameter selection"
   ]
  },
  {
   "attachments": {},
   "cell_type": "markdown",
   "id": "5de4b8f8",
   "metadata": {
    "papermill": {
     "duration": 0.005868,
     "end_time": "2023-05-31T14:46:04.343036",
     "exception": false,
     "start_time": "2023-05-31T14:46:04.337168",
     "status": "completed"
    },
    "tags": []
   },
   "source": [
    "Imports"
   ]
  },
  {
   "cell_type": "code",
   "execution_count": 2,
   "id": "6721e934",
   "metadata": {
    "execution": {
     "iopub.execute_input": "2023-05-31T14:46:04.357804Z",
     "iopub.status.busy": "2023-05-31T14:46:04.357056Z",
     "iopub.status.idle": "2023-05-31T14:46:04.732404Z",
     "shell.execute_reply": "2023-05-31T14:46:04.731193Z"
    },
    "papermill": {
     "duration": 0.386409,
     "end_time": "2023-05-31T14:46:04.735395",
     "exception": false,
     "start_time": "2023-05-31T14:46:04.348986",
     "status": "completed"
    },
    "tags": []
   },
   "outputs": [],
   "source": [
    "import numpy as np\n",
    "import pandas as pd\n",
    "import seaborn as sns\n",
    "from pipeline import *\n",
    "\n",
    "from time import time\n",
    "from datetime import timedelta\n",
    "\n",
    "from sklearn.model_selection import train_test_split, GridSearchCV\n",
    "\n",
    "from sklearn.svm import LinearSVC\n",
    "\n",
    "from sklearn.metrics import precision_score, recall_score, f1_score, average_precision_score, roc_auc_score\n",
    "from sklearn.metrics import make_scorer\n",
    "\n",
    "from IPython.core.interactiveshell import InteractiveShell\n",
    "\n",
    "InteractiveShell.ast_node_interactivity = \"all\"\n",
    "sns.set()\n",
    "pd.set_option('display.precision', 3)\n",
    "\n",
    "import warnings\n",
    "warnings.filterwarnings('ignore')\n",
    "\n",
    "np.random.seed(42) # for reproducibility\n",
    "rng = 42"
   ]
  },
  {
   "attachments": {},
   "cell_type": "markdown",
   "id": "fa0fc5f7",
   "metadata": {
    "papermill": {
     "duration": 0.005447,
     "end_time": "2023-05-31T14:46:04.746751",
     "exception": false,
     "start_time": "2023-05-31T14:46:04.741304",
     "status": "completed"
    },
    "tags": []
   },
   "source": [
    "### General functions"
   ]
  },
  {
   "cell_type": "code",
   "execution_count": null,
   "id": "6eaf7b0b",
   "metadata": {},
   "outputs": [],
   "source": [
    "f1_class_0_scorer = make_scorer(f1_score, pos_label=0)\n",
    "f1_class_1_scorer = make_scorer(f1_score, pos_label=1)\n",
    "recall_class_0_scorer = make_scorer(recall_score, pos_label=0)\n",
    "precision_class_0_scorer = make_scorer(precision_score, pos_label=0)\n",
    "average_precision_score_macro = make_scorer(average_precision_score, average='macro')\n",
    "roc_auc_macro_scorer = make_scorer(roc_auc_score, average='macro')\n",
    "\n",
    "scoring_dict = {\n",
    "    'f1_class_0': f1_class_0_scorer,\n",
    "    'f1_class_1': f1_class_1_scorer,\n",
    "    'f1_macro': 'f1_macro',\n",
    "    'recall_0': recall_class_0_scorer,\n",
    "    'precision_0': precision_class_0_scorer,\n",
    "    'AP_macro': average_precision_score_macro,\n",
    "    'roc_auc_macro': roc_auc_macro_scorer,\n",
    "}"
   ]
  },
  {
   "cell_type": "code",
   "execution_count": null,
   "id": "75131ca6",
   "metadata": {},
   "outputs": [],
   "source": [
    "def hypermodel(X_train, y_train, model, params={}, scoring_dict=scoring_dict, prepA=preprocessing_oh_target, \n",
    "               prepB=preprocessing_oh, sampA=RandomUnderSampler(random_state=rng), sampB=SMOTE(random_state=rng)):\n",
    "    \n",
    "    pipeAA = imbPipeline([\n",
    "        ('preprocessing', prepA),\n",
    "        ('undersampler', sampA),\n",
    "        ('classifier', model)\n",
    "    ])\n",
    "\n",
    "    pipeBB = imbPipeline([\n",
    "        ('preprocessing', prepB),\n",
    "        ('undersampler', sampB),\n",
    "        ('classifier', model)\n",
    "    ])\n",
    "\n",
    "    pipeAB = imbPipeline([\n",
    "        ('preprocessing', prepA),\n",
    "        ('undersampler', sampB),\n",
    "        ('classifier', model)\n",
    "    ])\n",
    "\n",
    "    pipeBA = imbPipeline([\n",
    "        ('preprocessing', prepB),\n",
    "        ('undersampler', sampA),\n",
    "        ('classifier', model)\n",
    "    ])\n",
    "\n",
    "    pipeA0 = imbPipeline([\n",
    "        ('preprocessing', prepA),\n",
    "        ('classifier', model)\n",
    "    ])\n",
    "    \n",
    "    pipeB0 = imbPipeline([\n",
    "        ('preprocessing', prepB),\n",
    "        ('classifier', model)\n",
    "    ])\n",
    "\n",
    "    pipes = [pipeAA, pipeAB, pipeA0, pipeBA, pipeBB, pipeB0]\n",
    "    grids = []\n",
    "    for pipe in pipes:\n",
    "        # grid search\n",
    "        grid = GridSearchCV(pipe, params, cv=5, scoring=scoring_dict, refit='f1_class_0', n_jobs=-1, verbose=1)\n",
    "        grid.fit(X_train, y_train)\n",
    "        grids.append(grid)\n",
    "\n",
    "    # get max index of grids using f1_class_0 as measure\n",
    "    max_index = np.argmax([grid.best_score_ for grid in grids])\n",
    "    # get best grid\n",
    "    best_grid = grids[max_index]\n",
    "\n",
    "\n",
    "    return best_grid"
   ]
  },
  {
   "attachments": {},
   "cell_type": "markdown",
   "id": "95e83f30",
   "metadata": {},
   "source": [
    "Get the data"
   ]
  },
  {
   "cell_type": "code",
   "execution_count": null,
   "id": "fc91b767",
   "metadata": {},
   "outputs": [
    {
     "name": "stdout",
     "output_type": "stream",
     "text": [
      "set()\n"
     ]
    },
    {
     "data": {
      "text/plain": [
       "((44310, 33), (11078, 33), (13848, 33))"
      ]
     },
     "metadata": {},
     "output_type": "display_data"
    }
   ],
   "source": [
    "X_train, X_test, y_train, y_test = get_train_test(balanced=False)\n",
    "X_train, X_val, y_train, y_val = train_test_split(X_train, y_train, test_size=0.2, random_state=rng)\n",
    "X_train.shape, X_val.shape, X_test.shape"
   ]
  },
  {
   "attachments": {},
   "cell_type": "markdown",
   "id": "ee2da00d",
   "metadata": {
    "papermill": {
     "duration": 0.005811,
     "end_time": "2023-05-31T14:46:07.503155",
     "exception": false,
     "start_time": "2023-05-31T14:46:07.497344",
     "status": "completed"
    },
    "tags": []
   },
   "source": [
    "### SVM "
   ]
  },
  {
   "cell_type": "code",
   "execution_count": 7,
   "id": "d9124dc9",
   "metadata": {
    "execution": {
     "iopub.execute_input": "2023-05-31T14:46:07.517283Z",
     "iopub.status.busy": "2023-05-31T14:46:07.516784Z",
     "iopub.status.idle": "2023-05-31T15:16:32.346937Z",
     "shell.execute_reply": "2023-05-31T15:16:32.344978Z"
    },
    "papermill": {
     "duration": 1824.849263,
     "end_time": "2023-05-31T15:16:32.358559",
     "exception": false,
     "start_time": "2023-05-31T14:46:07.509296",
     "status": "completed"
    },
    "tags": []
   },
   "outputs": [
    {
     "name": "stdout",
     "output_type": "stream",
     "text": [
      "Fitting 5 folds for each of 40 candidates, totalling 200 fits\n"
     ]
    },
    {
     "name": "stderr",
     "output_type": "stream",
     "text": [
      "/opt/conda/lib/python3.10/site-packages/sklearn/svm/_base.py:1244: ConvergenceWarning: Liblinear failed to converge, increase the number of iterations.\n",
      "  warnings.warn(\n",
      "/opt/conda/lib/python3.10/site-packages/sklearn/svm/_base.py:1244: ConvergenceWarning: Liblinear failed to converge, increase the number of iterations.\n",
      "  warnings.warn(\n",
      "/opt/conda/lib/python3.10/site-packages/sklearn/svm/_base.py:1244: ConvergenceWarning: Liblinear failed to converge, increase the number of iterations.\n",
      "  warnings.warn(\n",
      "/opt/conda/lib/python3.10/site-packages/sklearn/svm/_base.py:1244: ConvergenceWarning: Liblinear failed to converge, increase the number of iterations.\n",
      "  warnings.warn(\n",
      "/opt/conda/lib/python3.10/site-packages/sklearn/svm/_base.py:1244: ConvergenceWarning: Liblinear failed to converge, increase the number of iterations.\n",
      "  warnings.warn(\n",
      "/opt/conda/lib/python3.10/site-packages/sklearn/svm/_base.py:1244: ConvergenceWarning: Liblinear failed to converge, increase the number of iterations.\n",
      "  warnings.warn(\n"
     ]
    },
    {
     "name": "stdout",
     "output_type": "stream",
     "text": [
      "Fitting 5 folds for each of 40 candidates, totalling 200 fits\n"
     ]
    },
    {
     "name": "stderr",
     "output_type": "stream",
     "text": [
      "/opt/conda/lib/python3.10/site-packages/sklearn/svm/_base.py:1244: ConvergenceWarning: Liblinear failed to converge, increase the number of iterations.\n",
      "  warnings.warn(\n",
      "/opt/conda/lib/python3.10/site-packages/sklearn/svm/_base.py:1244: ConvergenceWarning: Liblinear failed to converge, increase the number of iterations.\n",
      "  warnings.warn(\n",
      "/opt/conda/lib/python3.10/site-packages/sklearn/svm/_base.py:1244: ConvergenceWarning: Liblinear failed to converge, increase the number of iterations.\n",
      "  warnings.warn(\n"
     ]
    },
    {
     "name": "stdout",
     "output_type": "stream",
     "text": [
      "Fitting 5 folds for each of 40 candidates, totalling 200 fits\n"
     ]
    },
    {
     "name": "stderr",
     "output_type": "stream",
     "text": [
      "/opt/conda/lib/python3.10/site-packages/sklearn/svm/_base.py:1244: ConvergenceWarning: Liblinear failed to converge, increase the number of iterations.\n",
      "  warnings.warn(\n",
      "/opt/conda/lib/python3.10/site-packages/sklearn/svm/_base.py:1244: ConvergenceWarning: Liblinear failed to converge, increase the number of iterations.\n",
      "  warnings.warn(\n",
      "/opt/conda/lib/python3.10/site-packages/sklearn/svm/_base.py:1244: ConvergenceWarning: Liblinear failed to converge, increase the number of iterations.\n",
      "  warnings.warn(\n",
      "/opt/conda/lib/python3.10/site-packages/sklearn/svm/_base.py:1244: ConvergenceWarning: Liblinear failed to converge, increase the number of iterations.\n",
      "  warnings.warn(\n",
      "/opt/conda/lib/python3.10/site-packages/sklearn/svm/_base.py:1244: ConvergenceWarning: Liblinear failed to converge, increase the number of iterations.\n",
      "  warnings.warn(\n",
      "/opt/conda/lib/python3.10/site-packages/sklearn/svm/_base.py:1244: ConvergenceWarning: Liblinear failed to converge, increase the number of iterations.\n",
      "  warnings.warn(\n",
      "/opt/conda/lib/python3.10/site-packages/sklearn/svm/_base.py:1244: ConvergenceWarning: Liblinear failed to converge, increase the number of iterations.\n",
      "  warnings.warn(\n",
      "/opt/conda/lib/python3.10/site-packages/sklearn/svm/_base.py:1244: ConvergenceWarning: Liblinear failed to converge, increase the number of iterations.\n",
      "  warnings.warn(\n",
      "/opt/conda/lib/python3.10/site-packages/sklearn/svm/_base.py:1244: ConvergenceWarning: Liblinear failed to converge, increase the number of iterations.\n",
      "  warnings.warn(\n",
      "/opt/conda/lib/python3.10/site-packages/sklearn/svm/_base.py:1244: ConvergenceWarning: Liblinear failed to converge, increase the number of iterations.\n",
      "  warnings.warn(\n",
      "/opt/conda/lib/python3.10/site-packages/sklearn/svm/_base.py:1244: ConvergenceWarning: Liblinear failed to converge, increase the number of iterations.\n",
      "  warnings.warn(\n",
      "/opt/conda/lib/python3.10/site-packages/sklearn/svm/_base.py:1244: ConvergenceWarning: Liblinear failed to converge, increase the number of iterations.\n",
      "  warnings.warn(\n",
      "/opt/conda/lib/python3.10/site-packages/sklearn/svm/_base.py:1244: ConvergenceWarning: Liblinear failed to converge, increase the number of iterations.\n",
      "  warnings.warn(\n",
      "/opt/conda/lib/python3.10/site-packages/sklearn/svm/_base.py:1244: ConvergenceWarning: Liblinear failed to converge, increase the number of iterations.\n",
      "  warnings.warn(\n",
      "/opt/conda/lib/python3.10/site-packages/sklearn/svm/_base.py:1244: ConvergenceWarning: Liblinear failed to converge, increase the number of iterations.\n",
      "  warnings.warn(\n",
      "/opt/conda/lib/python3.10/site-packages/sklearn/svm/_base.py:1244: ConvergenceWarning: Liblinear failed to converge, increase the number of iterations.\n",
      "  warnings.warn(\n",
      "/opt/conda/lib/python3.10/site-packages/sklearn/svm/_base.py:1244: ConvergenceWarning: Liblinear failed to converge, increase the number of iterations.\n",
      "  warnings.warn(\n",
      "/opt/conda/lib/python3.10/site-packages/sklearn/svm/_base.py:1244: ConvergenceWarning: Liblinear failed to converge, increase the number of iterations.\n",
      "  warnings.warn(\n",
      "/opt/conda/lib/python3.10/site-packages/sklearn/svm/_base.py:1244: ConvergenceWarning: Liblinear failed to converge, increase the number of iterations.\n",
      "  warnings.warn(\n"
     ]
    },
    {
     "name": "stdout",
     "output_type": "stream",
     "text": [
      "Fitting 5 folds for each of 40 candidates, totalling 200 fits\n",
      "Fitting 5 folds for each of 40 candidates, totalling 200 fits\n"
     ]
    },
    {
     "name": "stderr",
     "output_type": "stream",
     "text": [
      "/opt/conda/lib/python3.10/site-packages/sklearn/svm/_base.py:1244: ConvergenceWarning: Liblinear failed to converge, increase the number of iterations.\n",
      "  warnings.warn(\n",
      "/opt/conda/lib/python3.10/site-packages/sklearn/svm/_base.py:1244: ConvergenceWarning: Liblinear failed to converge, increase the number of iterations.\n",
      "  warnings.warn(\n"
     ]
    },
    {
     "name": "stdout",
     "output_type": "stream",
     "text": [
      "Fitting 5 folds for each of 40 candidates, totalling 200 fits\n"
     ]
    },
    {
     "name": "stderr",
     "output_type": "stream",
     "text": [
      "/opt/conda/lib/python3.10/site-packages/sklearn/svm/_base.py:1244: ConvergenceWarning: Liblinear failed to converge, increase the number of iterations.\n",
      "  warnings.warn(\n",
      "/opt/conda/lib/python3.10/site-packages/sklearn/svm/_base.py:1244: ConvergenceWarning: Liblinear failed to converge, increase the number of iterations.\n",
      "  warnings.warn(\n",
      "/opt/conda/lib/python3.10/site-packages/sklearn/svm/_base.py:1244: ConvergenceWarning: Liblinear failed to converge, increase the number of iterations.\n",
      "  warnings.warn(\n",
      "/opt/conda/lib/python3.10/site-packages/sklearn/svm/_base.py:1244: ConvergenceWarning: Liblinear failed to converge, increase the number of iterations.\n",
      "  warnings.warn(\n",
      "/opt/conda/lib/python3.10/site-packages/sklearn/svm/_base.py:1244: ConvergenceWarning: Liblinear failed to converge, increase the number of iterations.\n",
      "  warnings.warn(\n",
      "/opt/conda/lib/python3.10/site-packages/sklearn/svm/_base.py:1244: ConvergenceWarning: Liblinear failed to converge, increase the number of iterations.\n",
      "  warnings.warn(\n",
      "/opt/conda/lib/python3.10/site-packages/sklearn/svm/_base.py:1244: ConvergenceWarning: Liblinear failed to converge, increase the number of iterations.\n",
      "  warnings.warn(\n",
      "/opt/conda/lib/python3.10/site-packages/sklearn/svm/_base.py:1244: ConvergenceWarning: Liblinear failed to converge, increase the number of iterations.\n",
      "  warnings.warn(\n",
      "/opt/conda/lib/python3.10/site-packages/sklearn/svm/_base.py:1244: ConvergenceWarning: Liblinear failed to converge, increase the number of iterations.\n",
      "  warnings.warn(\n"
     ]
    },
    {
     "name": "stdout",
     "output_type": "stream",
     "text": [
      "0:30:24.821046\n"
     ]
    }
   ],
   "source": [
    "model = LinearSVC()\n",
    "\n",
    "params = {\n",
    "    'classifier__C': [0.01, 0.05, 0.1, 0.2],\n",
    "    'classifier__class_weight': ['balanced'],\n",
    "    'classifier__max_iter': [1000, 2000, 3000, 4000, 5000],\n",
    "    'classifier__dual': [False],\n",
    "    'classifier__penalty': ['l1', 'l2']\n",
    "}\n",
    "\n",
    "init_time = time()\n",
    "best_linSVC = hypermodel(X_train, y_train, model, params=params)\n",
    "print(timedelta(seconds=time()-init_time))"
   ]
  },
  {
   "cell_type": "code",
   "execution_count": 8,
   "id": "be109fe3",
   "metadata": {
    "execution": {
     "iopub.execute_input": "2023-05-31T15:16:32.380157Z",
     "iopub.status.busy": "2023-05-31T15:16:32.379683Z",
     "iopub.status.idle": "2023-05-31T15:16:32.472882Z",
     "shell.execute_reply": "2023-05-31T15:16:32.471621Z"
    },
    "papermill": {
     "duration": 0.107386,
     "end_time": "2023-05-31T15:16:32.475616",
     "exception": false,
     "start_time": "2023-05-31T15:16:32.368230",
     "status": "completed"
    },
    "tags": []
   },
   "outputs": [
    {
     "data": {
      "text/html": [
       "<style>#sk-container-id-1 {color: black;background-color: white;}#sk-container-id-1 pre{padding: 0;}#sk-container-id-1 div.sk-toggleable {background-color: white;}#sk-container-id-1 label.sk-toggleable__label {cursor: pointer;display: block;width: 100%;margin-bottom: 0;padding: 0.3em;box-sizing: border-box;text-align: center;}#sk-container-id-1 label.sk-toggleable__label-arrow:before {content: \"▸\";float: left;margin-right: 0.25em;color: #696969;}#sk-container-id-1 label.sk-toggleable__label-arrow:hover:before {color: black;}#sk-container-id-1 div.sk-estimator:hover label.sk-toggleable__label-arrow:before {color: black;}#sk-container-id-1 div.sk-toggleable__content {max-height: 0;max-width: 0;overflow: hidden;text-align: left;background-color: #f0f8ff;}#sk-container-id-1 div.sk-toggleable__content pre {margin: 0.2em;color: black;border-radius: 0.25em;background-color: #f0f8ff;}#sk-container-id-1 input.sk-toggleable__control:checked~div.sk-toggleable__content {max-height: 200px;max-width: 100%;overflow: auto;}#sk-container-id-1 input.sk-toggleable__control:checked~label.sk-toggleable__label-arrow:before {content: \"▾\";}#sk-container-id-1 div.sk-estimator input.sk-toggleable__control:checked~label.sk-toggleable__label {background-color: #d4ebff;}#sk-container-id-1 div.sk-label input.sk-toggleable__control:checked~label.sk-toggleable__label {background-color: #d4ebff;}#sk-container-id-1 input.sk-hidden--visually {border: 0;clip: rect(1px 1px 1px 1px);clip: rect(1px, 1px, 1px, 1px);height: 1px;margin: -1px;overflow: hidden;padding: 0;position: absolute;width: 1px;}#sk-container-id-1 div.sk-estimator {font-family: monospace;background-color: #f0f8ff;border: 1px dotted black;border-radius: 0.25em;box-sizing: border-box;margin-bottom: 0.5em;}#sk-container-id-1 div.sk-estimator:hover {background-color: #d4ebff;}#sk-container-id-1 div.sk-parallel-item::after {content: \"\";width: 100%;border-bottom: 1px solid gray;flex-grow: 1;}#sk-container-id-1 div.sk-label:hover label.sk-toggleable__label {background-color: #d4ebff;}#sk-container-id-1 div.sk-serial::before {content: \"\";position: absolute;border-left: 1px solid gray;box-sizing: border-box;top: 0;bottom: 0;left: 50%;z-index: 0;}#sk-container-id-1 div.sk-serial {display: flex;flex-direction: column;align-items: center;background-color: white;padding-right: 0.2em;padding-left: 0.2em;position: relative;}#sk-container-id-1 div.sk-item {position: relative;z-index: 1;}#sk-container-id-1 div.sk-parallel {display: flex;align-items: stretch;justify-content: center;background-color: white;position: relative;}#sk-container-id-1 div.sk-item::before, #sk-container-id-1 div.sk-parallel-item::before {content: \"\";position: absolute;border-left: 1px solid gray;box-sizing: border-box;top: 0;bottom: 0;left: 50%;z-index: -1;}#sk-container-id-1 div.sk-parallel-item {display: flex;flex-direction: column;z-index: 1;position: relative;background-color: white;}#sk-container-id-1 div.sk-parallel-item:first-child::after {align-self: flex-end;width: 50%;}#sk-container-id-1 div.sk-parallel-item:last-child::after {align-self: flex-start;width: 50%;}#sk-container-id-1 div.sk-parallel-item:only-child::after {width: 0;}#sk-container-id-1 div.sk-dashed-wrapped {border: 1px dashed gray;margin: 0 0.4em 0.5em 0.4em;box-sizing: border-box;padding-bottom: 0.4em;background-color: white;}#sk-container-id-1 div.sk-label label {font-family: monospace;font-weight: bold;display: inline-block;line-height: 1.2em;}#sk-container-id-1 div.sk-label-container {text-align: center;}#sk-container-id-1 div.sk-container {/* jupyter's `normalize.less` sets `[hidden] { display: none; }` but bootstrap.min.css set `[hidden] { display: none !important; }` so we also need the `!important` here to be able to override the default hidden behavior on the sphinx rendered scikit-learn.org. See: https://github.com/scikit-learn/scikit-learn/issues/21755 */display: inline-block !important;position: relative;}#sk-container-id-1 div.sk-text-repr-fallback {display: none;}</style><div id=\"sk-container-id-1\" class=\"sk-top-container\"><div class=\"sk-text-repr-fallback\"><pre>Pipeline(steps=[(&#x27;preprocessing&#x27;,\n",
       "                 ColumnTransformer(remainder=&#x27;passthrough&#x27;,\n",
       "                                   transformers=[(&#x27;scaler&#x27;, RobustScaler(),\n",
       "                                                  [&#x27;NFAMS&#x27;, &#x27;FAMSIZE&#x27;, &#x27;NCHILD&#x27;,\n",
       "                                                   &#x27;NCHLT5&#x27;, &#x27;NSIBS&#x27;,\n",
       "                                                   &#x27;YRIMMIG&#x27;]),\n",
       "                                                 (&#x27;onehot&#x27;,\n",
       "                                                  OneHotEncoder(handle_unknown=&#x27;infrequent_if_exist&#x27;,\n",
       "                                                                min_frequency=50,\n",
       "                                                                sparse_output=False),\n",
       "                                                  [&#x27;GQTYPE&#x27;, &#x27;METRO&#x27;, &#x27;INTTYPE&#x27;,\n",
       "                                                   &#x27;SEX&#x27;, &#x27;VETSTAT&#x27;, &#x27;CITIZEN&#x27;,\n",
       "                                                   &#x27;DIFFANY&#x27;, &#x27;COVIDUNAW&#x27;,\n",
       "                                                   &#x27;NATIVITY&#x27;, &#x27;COVIDPAID&#x27;,\n",
       "                                                   &#x27;STATEFIP&#x27;, &#x27;RELATE&#x27;, &#x27;RACE&#x27;,\n",
       "                                                   &#x27;MARST&#x27;, &#x27;BPL&#x27;, &#x27;MBPL&#x27;,\n",
       "                                                   &#x27;FBPL&#x27;, &#x27;HISPAN&#x27;, &#x27;EMPSTAT&#x27;,\n",
       "                                                   &#x27;CLASSWKR&#x27;,\n",
       "                                                   &#x27;EMPSTAT_HEAD&#x27;]),\n",
       "                                                 (&#x27;imputer&#x27;,\n",
       "                                                  Pipeline(steps=[(&#x27;scaler&#x27;,\n",
       "                                                                   RobustScaler()),\n",
       "                                                                  (&#x27;imputer&#x27;,\n",
       "                                                                   IterativeImputer(random_state=42))]),\n",
       "                                                  [&#x27;UHRSWORKT&#x27;])])),\n",
       "                (&#x27;classifier&#x27;,\n",
       "                 LinearSVC(C=0.05, class_weight=&#x27;balanced&#x27;, dual=False,\n",
       "                           penalty=&#x27;l1&#x27;))])</pre><b>In a Jupyter environment, please rerun this cell to show the HTML representation or trust the notebook. <br />On GitHub, the HTML representation is unable to render, please try loading this page with nbviewer.org.</b></div><div class=\"sk-container\" hidden><div class=\"sk-item sk-dashed-wrapped\"><div class=\"sk-label-container\"><div class=\"sk-label sk-toggleable\"><input class=\"sk-toggleable__control sk-hidden--visually\" id=\"sk-estimator-id-1\" type=\"checkbox\" ><label for=\"sk-estimator-id-1\" class=\"sk-toggleable__label sk-toggleable__label-arrow\">Pipeline</label><div class=\"sk-toggleable__content\"><pre>Pipeline(steps=[(&#x27;preprocessing&#x27;,\n",
       "                 ColumnTransformer(remainder=&#x27;passthrough&#x27;,\n",
       "                                   transformers=[(&#x27;scaler&#x27;, RobustScaler(),\n",
       "                                                  [&#x27;NFAMS&#x27;, &#x27;FAMSIZE&#x27;, &#x27;NCHILD&#x27;,\n",
       "                                                   &#x27;NCHLT5&#x27;, &#x27;NSIBS&#x27;,\n",
       "                                                   &#x27;YRIMMIG&#x27;]),\n",
       "                                                 (&#x27;onehot&#x27;,\n",
       "                                                  OneHotEncoder(handle_unknown=&#x27;infrequent_if_exist&#x27;,\n",
       "                                                                min_frequency=50,\n",
       "                                                                sparse_output=False),\n",
       "                                                  [&#x27;GQTYPE&#x27;, &#x27;METRO&#x27;, &#x27;INTTYPE&#x27;,\n",
       "                                                   &#x27;SEX&#x27;, &#x27;VETSTAT&#x27;, &#x27;CITIZEN&#x27;,\n",
       "                                                   &#x27;DIFFANY&#x27;, &#x27;COVIDUNAW&#x27;,\n",
       "                                                   &#x27;NATIVITY&#x27;, &#x27;COVIDPAID&#x27;,\n",
       "                                                   &#x27;STATEFIP&#x27;, &#x27;RELATE&#x27;, &#x27;RACE&#x27;,\n",
       "                                                   &#x27;MARST&#x27;, &#x27;BPL&#x27;, &#x27;MBPL&#x27;,\n",
       "                                                   &#x27;FBPL&#x27;, &#x27;HISPAN&#x27;, &#x27;EMPSTAT&#x27;,\n",
       "                                                   &#x27;CLASSWKR&#x27;,\n",
       "                                                   &#x27;EMPSTAT_HEAD&#x27;]),\n",
       "                                                 (&#x27;imputer&#x27;,\n",
       "                                                  Pipeline(steps=[(&#x27;scaler&#x27;,\n",
       "                                                                   RobustScaler()),\n",
       "                                                                  (&#x27;imputer&#x27;,\n",
       "                                                                   IterativeImputer(random_state=42))]),\n",
       "                                                  [&#x27;UHRSWORKT&#x27;])])),\n",
       "                (&#x27;classifier&#x27;,\n",
       "                 LinearSVC(C=0.05, class_weight=&#x27;balanced&#x27;, dual=False,\n",
       "                           penalty=&#x27;l1&#x27;))])</pre></div></div></div><div class=\"sk-serial\"><div class=\"sk-item sk-dashed-wrapped\"><div class=\"sk-label-container\"><div class=\"sk-label sk-toggleable\"><input class=\"sk-toggleable__control sk-hidden--visually\" id=\"sk-estimator-id-2\" type=\"checkbox\" ><label for=\"sk-estimator-id-2\" class=\"sk-toggleable__label sk-toggleable__label-arrow\">preprocessing: ColumnTransformer</label><div class=\"sk-toggleable__content\"><pre>ColumnTransformer(remainder=&#x27;passthrough&#x27;,\n",
       "                  transformers=[(&#x27;scaler&#x27;, RobustScaler(),\n",
       "                                 [&#x27;NFAMS&#x27;, &#x27;FAMSIZE&#x27;, &#x27;NCHILD&#x27;, &#x27;NCHLT5&#x27;,\n",
       "                                  &#x27;NSIBS&#x27;, &#x27;YRIMMIG&#x27;]),\n",
       "                                (&#x27;onehot&#x27;,\n",
       "                                 OneHotEncoder(handle_unknown=&#x27;infrequent_if_exist&#x27;,\n",
       "                                               min_frequency=50,\n",
       "                                               sparse_output=False),\n",
       "                                 [&#x27;GQTYPE&#x27;, &#x27;METRO&#x27;, &#x27;INTTYPE&#x27;, &#x27;SEX&#x27;,\n",
       "                                  &#x27;VETSTAT&#x27;, &#x27;CITIZEN&#x27;, &#x27;DIFFANY&#x27;, &#x27;COVIDUNAW&#x27;,\n",
       "                                  &#x27;NATIVITY&#x27;, &#x27;COVIDPAID&#x27;, &#x27;STATEFIP&#x27;, &#x27;RELATE&#x27;,\n",
       "                                  &#x27;RACE&#x27;, &#x27;MARST&#x27;, &#x27;BPL&#x27;, &#x27;MBPL&#x27;, &#x27;FBPL&#x27;,\n",
       "                                  &#x27;HISPAN&#x27;, &#x27;EMPSTAT&#x27;, &#x27;CLASSWKR&#x27;,\n",
       "                                  &#x27;EMPSTAT_HEAD&#x27;]),\n",
       "                                (&#x27;imputer&#x27;,\n",
       "                                 Pipeline(steps=[(&#x27;scaler&#x27;, RobustScaler()),\n",
       "                                                 (&#x27;imputer&#x27;,\n",
       "                                                  IterativeImputer(random_state=42))]),\n",
       "                                 [&#x27;UHRSWORKT&#x27;])])</pre></div></div></div><div class=\"sk-parallel\"><div class=\"sk-parallel-item\"><div class=\"sk-item\"><div class=\"sk-label-container\"><div class=\"sk-label sk-toggleable\"><input class=\"sk-toggleable__control sk-hidden--visually\" id=\"sk-estimator-id-3\" type=\"checkbox\" ><label for=\"sk-estimator-id-3\" class=\"sk-toggleable__label sk-toggleable__label-arrow\">scaler</label><div class=\"sk-toggleable__content\"><pre>[&#x27;NFAMS&#x27;, &#x27;FAMSIZE&#x27;, &#x27;NCHILD&#x27;, &#x27;NCHLT5&#x27;, &#x27;NSIBS&#x27;, &#x27;YRIMMIG&#x27;]</pre></div></div></div><div class=\"sk-serial\"><div class=\"sk-item\"><div class=\"sk-estimator sk-toggleable\"><input class=\"sk-toggleable__control sk-hidden--visually\" id=\"sk-estimator-id-4\" type=\"checkbox\" ><label for=\"sk-estimator-id-4\" class=\"sk-toggleable__label sk-toggleable__label-arrow\">RobustScaler</label><div class=\"sk-toggleable__content\"><pre>RobustScaler()</pre></div></div></div></div></div></div><div class=\"sk-parallel-item\"><div class=\"sk-item\"><div class=\"sk-label-container\"><div class=\"sk-label sk-toggleable\"><input class=\"sk-toggleable__control sk-hidden--visually\" id=\"sk-estimator-id-5\" type=\"checkbox\" ><label for=\"sk-estimator-id-5\" class=\"sk-toggleable__label sk-toggleable__label-arrow\">onehot</label><div class=\"sk-toggleable__content\"><pre>[&#x27;GQTYPE&#x27;, &#x27;METRO&#x27;, &#x27;INTTYPE&#x27;, &#x27;SEX&#x27;, &#x27;VETSTAT&#x27;, &#x27;CITIZEN&#x27;, &#x27;DIFFANY&#x27;, &#x27;COVIDUNAW&#x27;, &#x27;NATIVITY&#x27;, &#x27;COVIDPAID&#x27;, &#x27;STATEFIP&#x27;, &#x27;RELATE&#x27;, &#x27;RACE&#x27;, &#x27;MARST&#x27;, &#x27;BPL&#x27;, &#x27;MBPL&#x27;, &#x27;FBPL&#x27;, &#x27;HISPAN&#x27;, &#x27;EMPSTAT&#x27;, &#x27;CLASSWKR&#x27;, &#x27;EMPSTAT_HEAD&#x27;]</pre></div></div></div><div class=\"sk-serial\"><div class=\"sk-item\"><div class=\"sk-estimator sk-toggleable\"><input class=\"sk-toggleable__control sk-hidden--visually\" id=\"sk-estimator-id-6\" type=\"checkbox\" ><label for=\"sk-estimator-id-6\" class=\"sk-toggleable__label sk-toggleable__label-arrow\">OneHotEncoder</label><div class=\"sk-toggleable__content\"><pre>OneHotEncoder(handle_unknown=&#x27;infrequent_if_exist&#x27;, min_frequency=50,\n",
       "              sparse_output=False)</pre></div></div></div></div></div></div><div class=\"sk-parallel-item\"><div class=\"sk-item\"><div class=\"sk-label-container\"><div class=\"sk-label sk-toggleable\"><input class=\"sk-toggleable__control sk-hidden--visually\" id=\"sk-estimator-id-7\" type=\"checkbox\" ><label for=\"sk-estimator-id-7\" class=\"sk-toggleable__label sk-toggleable__label-arrow\">imputer</label><div class=\"sk-toggleable__content\"><pre>[&#x27;UHRSWORKT&#x27;]</pre></div></div></div><div class=\"sk-serial\"><div class=\"sk-item\"><div class=\"sk-serial\"><div class=\"sk-item\"><div class=\"sk-estimator sk-toggleable\"><input class=\"sk-toggleable__control sk-hidden--visually\" id=\"sk-estimator-id-8\" type=\"checkbox\" ><label for=\"sk-estimator-id-8\" class=\"sk-toggleable__label sk-toggleable__label-arrow\">RobustScaler</label><div class=\"sk-toggleable__content\"><pre>RobustScaler()</pre></div></div></div><div class=\"sk-item\"><div class=\"sk-estimator sk-toggleable\"><input class=\"sk-toggleable__control sk-hidden--visually\" id=\"sk-estimator-id-9\" type=\"checkbox\" ><label for=\"sk-estimator-id-9\" class=\"sk-toggleable__label sk-toggleable__label-arrow\">IterativeImputer</label><div class=\"sk-toggleable__content\"><pre>IterativeImputer(random_state=42)</pre></div></div></div></div></div></div></div></div><div class=\"sk-parallel-item\"><div class=\"sk-item\"><div class=\"sk-label-container\"><div class=\"sk-label sk-toggleable\"><input class=\"sk-toggleable__control sk-hidden--visually\" id=\"sk-estimator-id-10\" type=\"checkbox\" ><label for=\"sk-estimator-id-10\" class=\"sk-toggleable__label sk-toggleable__label-arrow\">remainder</label><div class=\"sk-toggleable__content\"><pre>[&#x27;FAMINC&#x27;, &#x27;AGE&#x27;, &#x27;EDUC&#x27;, &#x27;EDUC_HEAD&#x27;, &#x27;VOTERES&#x27;]</pre></div></div></div><div class=\"sk-serial\"><div class=\"sk-item\"><div class=\"sk-estimator sk-toggleable\"><input class=\"sk-toggleable__control sk-hidden--visually\" id=\"sk-estimator-id-11\" type=\"checkbox\" ><label for=\"sk-estimator-id-11\" class=\"sk-toggleable__label sk-toggleable__label-arrow\">passthrough</label><div class=\"sk-toggleable__content\"><pre>passthrough</pre></div></div></div></div></div></div></div></div><div class=\"sk-item\"><div class=\"sk-estimator sk-toggleable\"><input class=\"sk-toggleable__control sk-hidden--visually\" id=\"sk-estimator-id-12\" type=\"checkbox\" ><label for=\"sk-estimator-id-12\" class=\"sk-toggleable__label sk-toggleable__label-arrow\">LinearSVC</label><div class=\"sk-toggleable__content\"><pre>LinearSVC(C=0.05, class_weight=&#x27;balanced&#x27;, dual=False, penalty=&#x27;l1&#x27;)</pre></div></div></div></div></div></div></div>"
      ],
      "text/plain": [
       "Pipeline(steps=[('preprocessing',\n",
       "                 ColumnTransformer(remainder='passthrough',\n",
       "                                   transformers=[('scaler', RobustScaler(),\n",
       "                                                  ['NFAMS', 'FAMSIZE', 'NCHILD',\n",
       "                                                   'NCHLT5', 'NSIBS',\n",
       "                                                   'YRIMMIG']),\n",
       "                                                 ('onehot',\n",
       "                                                  OneHotEncoder(handle_unknown='infrequent_if_exist',\n",
       "                                                                min_frequency=50,\n",
       "                                                                sparse_output=False),\n",
       "                                                  ['GQTYPE', 'METRO', 'INTTYPE',\n",
       "                                                   'SEX', 'VETSTAT', 'CITIZEN',\n",
       "                                                   'DIFFANY', 'COVIDUNAW',\n",
       "                                                   'NATIVITY', 'COVIDPAID',\n",
       "                                                   'STATEFIP', 'RELATE', 'RACE',\n",
       "                                                   'MARST', 'BPL', 'MBPL',\n",
       "                                                   'FBPL', 'HISPAN', 'EMPSTAT',\n",
       "                                                   'CLASSWKR',\n",
       "                                                   'EMPSTAT_HEAD']),\n",
       "                                                 ('imputer',\n",
       "                                                  Pipeline(steps=[('scaler',\n",
       "                                                                   RobustScaler()),\n",
       "                                                                  ('imputer',\n",
       "                                                                   IterativeImputer(random_state=42))]),\n",
       "                                                  ['UHRSWORKT'])])),\n",
       "                ('classifier',\n",
       "                 LinearSVC(C=0.05, class_weight='balanced', dual=False,\n",
       "                           penalty='l1'))])"
      ]
     },
     "execution_count": 8,
     "metadata": {},
     "output_type": "execute_result"
    }
   ],
   "source": [
    "best_linSVC.best_estimator_"
   ]
  },
  {
   "cell_type": "code",
   "execution_count": 9,
   "id": "a38ae2c9",
   "metadata": {
    "execution": {
     "iopub.execute_input": "2023-05-31T15:16:32.498377Z",
     "iopub.status.busy": "2023-05-31T15:16:32.497919Z",
     "iopub.status.idle": "2023-05-31T15:16:32.505804Z",
     "shell.execute_reply": "2023-05-31T15:16:32.504673Z"
    },
    "papermill": {
     "duration": 0.022231,
     "end_time": "2023-05-31T15:16:32.508392",
     "exception": false,
     "start_time": "2023-05-31T15:16:32.486161",
     "status": "completed"
    },
    "tags": []
   },
   "outputs": [
    {
     "data": {
      "text/plain": [
       "{'classifier__C': 0.05,\n",
       " 'classifier__class_weight': 'balanced',\n",
       " 'classifier__dual': False,\n",
       " 'classifier__max_iter': 1000,\n",
       " 'classifier__penalty': 'l1'}"
      ]
     },
     "execution_count": 9,
     "metadata": {},
     "output_type": "execute_result"
    }
   ],
   "source": [
    "best_linSVC.best_params_"
   ]
  },
  {
   "cell_type": "code",
   "execution_count": 10,
   "id": "6de6f5d3",
   "metadata": {
    "execution": {
     "iopub.execute_input": "2023-05-31T15:16:32.531951Z",
     "iopub.status.busy": "2023-05-31T15:16:32.531524Z",
     "iopub.status.idle": "2023-05-31T15:16:32.572764Z",
     "shell.execute_reply": "2023-05-31T15:16:32.571485Z"
    },
    "papermill": {
     "duration": 0.056224,
     "end_time": "2023-05-31T15:16:32.575565",
     "exception": false,
     "start_time": "2023-05-31T15:16:32.519341",
     "status": "completed"
    },
    "tags": []
   },
   "outputs": [
    {
     "data": {
      "text/html": [
       "<div>\n",
       "<style scoped>\n",
       "    .dataframe tbody tr th:only-of-type {\n",
       "        vertical-align: middle;\n",
       "    }\n",
       "\n",
       "    .dataframe tbody tr th {\n",
       "        vertical-align: top;\n",
       "    }\n",
       "\n",
       "    .dataframe thead th {\n",
       "        text-align: right;\n",
       "    }\n",
       "</style>\n",
       "<table border=\"1\" class=\"dataframe\">\n",
       "  <thead>\n",
       "    <tr style=\"text-align: right;\">\n",
       "      <th></th>\n",
       "      <th>param_classifier__C</th>\n",
       "      <th>param_classifier__class_weight</th>\n",
       "      <th>param_classifier__max_iter</th>\n",
       "      <th>param_classifier__dual</th>\n",
       "      <th>param_classifier__penalty</th>\n",
       "      <th>mean_test_f1_class_0</th>\n",
       "      <th>mean_test_f1_class_1</th>\n",
       "      <th>mean_test_f1_macro</th>\n",
       "      <th>mean_test_recall_0</th>\n",
       "      <th>mean_test_precision_0</th>\n",
       "      <th>mean_test_AP_macro</th>\n",
       "      <th>mean_test_roc_auc_macro</th>\n",
       "    </tr>\n",
       "  </thead>\n",
       "  <tbody>\n",
       "    <tr>\n",
       "      <th>10</th>\n",
       "      <td>0.05</td>\n",
       "      <td>balanced</td>\n",
       "      <td>1000</td>\n",
       "      <td>False</td>\n",
       "      <td>l1</td>\n",
       "      <td>0.51</td>\n",
       "      <td>0.801</td>\n",
       "      <td>0.655</td>\n",
       "      <td>0.724</td>\n",
       "      <td>0.394</td>\n",
       "      <td>0.878</td>\n",
       "      <td>0.719</td>\n",
       "    </tr>\n",
       "    <tr>\n",
       "      <th>12</th>\n",
       "      <td>0.05</td>\n",
       "      <td>balanced</td>\n",
       "      <td>2000</td>\n",
       "      <td>False</td>\n",
       "      <td>l1</td>\n",
       "      <td>0.51</td>\n",
       "      <td>0.801</td>\n",
       "      <td>0.655</td>\n",
       "      <td>0.724</td>\n",
       "      <td>0.394</td>\n",
       "      <td>0.878</td>\n",
       "      <td>0.719</td>\n",
       "    </tr>\n",
       "    <tr>\n",
       "      <th>16</th>\n",
       "      <td>0.05</td>\n",
       "      <td>balanced</td>\n",
       "      <td>4000</td>\n",
       "      <td>False</td>\n",
       "      <td>l1</td>\n",
       "      <td>0.51</td>\n",
       "      <td>0.801</td>\n",
       "      <td>0.655</td>\n",
       "      <td>0.724</td>\n",
       "      <td>0.394</td>\n",
       "      <td>0.878</td>\n",
       "      <td>0.719</td>\n",
       "    </tr>\n",
       "    <tr>\n",
       "      <th>18</th>\n",
       "      <td>0.05</td>\n",
       "      <td>balanced</td>\n",
       "      <td>5000</td>\n",
       "      <td>False</td>\n",
       "      <td>l1</td>\n",
       "      <td>0.51</td>\n",
       "      <td>0.801</td>\n",
       "      <td>0.655</td>\n",
       "      <td>0.723</td>\n",
       "      <td>0.394</td>\n",
       "      <td>0.877</td>\n",
       "      <td>0.719</td>\n",
       "    </tr>\n",
       "    <tr>\n",
       "      <th>14</th>\n",
       "      <td>0.05</td>\n",
       "      <td>balanced</td>\n",
       "      <td>3000</td>\n",
       "      <td>False</td>\n",
       "      <td>l1</td>\n",
       "      <td>0.51</td>\n",
       "      <td>0.801</td>\n",
       "      <td>0.655</td>\n",
       "      <td>0.723</td>\n",
       "      <td>0.394</td>\n",
       "      <td>0.877</td>\n",
       "      <td>0.719</td>\n",
       "    </tr>\n",
       "  </tbody>\n",
       "</table>\n",
       "</div>"
      ],
      "text/plain": [
       "   param_classifier__C param_classifier__class_weight  \\\n",
       "10                0.05                       balanced   \n",
       "12                0.05                       balanced   \n",
       "16                0.05                       balanced   \n",
       "18                0.05                       balanced   \n",
       "14                0.05                       balanced   \n",
       "\n",
       "   param_classifier__max_iter param_classifier__dual  \\\n",
       "10                       1000                  False   \n",
       "12                       2000                  False   \n",
       "16                       4000                  False   \n",
       "18                       5000                  False   \n",
       "14                       3000                  False   \n",
       "\n",
       "   param_classifier__penalty  mean_test_f1_class_0  mean_test_f1_class_1  \\\n",
       "10                        l1                  0.51                 0.801   \n",
       "12                        l1                  0.51                 0.801   \n",
       "16                        l1                  0.51                 0.801   \n",
       "18                        l1                  0.51                 0.801   \n",
       "14                        l1                  0.51                 0.801   \n",
       "\n",
       "    mean_test_f1_macro  mean_test_recall_0  mean_test_precision_0  \\\n",
       "10               0.655               0.724                  0.394   \n",
       "12               0.655               0.724                  0.394   \n",
       "16               0.655               0.724                  0.394   \n",
       "18               0.655               0.723                  0.394   \n",
       "14               0.655               0.723                  0.394   \n",
       "\n",
       "    mean_test_AP_macro  mean_test_roc_auc_macro  \n",
       "10               0.878                    0.719  \n",
       "12               0.878                    0.719  \n",
       "16               0.878                    0.719  \n",
       "18               0.877                    0.719  \n",
       "14               0.877                    0.719  "
      ]
     },
     "execution_count": 10,
     "metadata": {},
     "output_type": "execute_result"
    }
   ],
   "source": [
    "scoring_cols = ['param_classifier__C', 'param_classifier__class_weight', 'param_classifier__max_iter',\n",
    "                'param_classifier__dual', 'param_classifier__penalty', \n",
    "                'mean_test_f1_class_0', 'mean_test_f1_class_1', 'mean_test_f1_macro', \n",
    "                'mean_test_recall_0', 'mean_test_precision_0', 'mean_test_AP_macro', 'mean_test_roc_auc_macro']\n",
    "\n",
    "pd.DataFrame(best_linSVC.cv_results_).sort_values(by='mean_test_f1_class_0', ascending=False)[scoring_cols].head()"
   ]
  }
 ],
 "metadata": {
  "kernelspec": {
   "display_name": "Python 3",
   "language": "python",
   "name": "python3"
  },
  "language_info": {
   "codemirror_mode": {
    "name": "ipython",
    "version": 3
   },
   "file_extension": ".py",
   "mimetype": "text/x-python",
   "name": "python",
   "nbconvert_exporter": "python",
   "pygments_lexer": "ipython3",
   "version": "3.10.10"
  },
  "papermill": {
   "default_parameters": {},
   "duration": 1848.557543,
   "end_time": "2023-05-31T15:16:35.497609",
   "environment_variables": {},
   "exception": null,
   "input_path": "__notebook__.ipynb",
   "output_path": "__notebook__.ipynb",
   "parameters": {},
   "start_time": "2023-05-31T14:45:46.940066",
   "version": "2.4.0"
  }
 },
 "nbformat": 4,
 "nbformat_minor": 5
}
