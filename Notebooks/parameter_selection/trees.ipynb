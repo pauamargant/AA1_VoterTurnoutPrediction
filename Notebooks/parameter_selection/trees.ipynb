{
 "cells": [
  {
   "attachments": {},
   "cell_type": "markdown",
   "id": "4d8fe9d0",
   "metadata": {
    "papermill": {
     "duration": 0.008911,
     "end_time": "2023-05-31T09:54:01.218352",
     "exception": false,
     "start_time": "2023-05-31T09:54:01.209441",
     "status": "completed"
    },
    "tags": []
   },
   "source": [
    "## Modeling - Trees - Parameter Selection"
   ]
  },
  {
   "attachments": {},
   "cell_type": "markdown",
   "id": "1f73a42e",
   "metadata": {
    "papermill": {
     "duration": 0.00834,
     "end_time": "2023-05-31T09:54:01.235489",
     "exception": false,
     "start_time": "2023-05-31T09:54:01.227149",
     "status": "completed"
    },
    "tags": []
   },
   "source": [
    "Imports"
   ]
  },
  {
   "cell_type": "code",
   "execution_count": 2,
   "id": "22aaaa26",
   "metadata": {
    "execution": {
     "iopub.execute_input": "2023-05-31T09:54:01.255729Z",
     "iopub.status.busy": "2023-05-31T09:54:01.255224Z",
     "iopub.status.idle": "2023-05-31T09:54:01.604809Z",
     "shell.execute_reply": "2023-05-31T09:54:01.603536Z"
    },
    "papermill": {
     "duration": 0.363379,
     "end_time": "2023-05-31T09:54:01.608026",
     "exception": false,
     "start_time": "2023-05-31T09:54:01.244647",
     "status": "completed"
    },
    "tags": []
   },
   "outputs": [],
   "source": [
    "import numpy as np\n",
    "import pandas as pd\n",
    "import seaborn as sns\n",
    "from pipeline import *\n",
    "\n",
    "from time import time\n",
    "from datetime import timedelta\n",
    "\n",
    "from sklearn.model_selection import train_test_split, GridSearchCV\n",
    "from sklearn.tree import DecisionTreeClassifier\n",
    "from sklearn.ensemble import RandomForestClassifier, ExtraTreesClassifier\n",
    "\n",
    "from sklearn.metrics import precision_score, recall_score, f1_score, average_precision_score, roc_auc_score\n",
    "from sklearn.metrics import make_scorer\n",
    "\n",
    "from IPython.core.interactiveshell import InteractiveShell\n",
    "\n",
    "InteractiveShell.ast_node_interactivity = \"all\"\n",
    "sns.set()\n",
    "pd.set_option('display.precision', 3)\n",
    "\n",
    "import warnings\n",
    "warnings.filterwarnings('ignore')\n",
    "\n",
    "np.random.seed(42) # for reproducibility\n",
    "rng = 42"
   ]
  },
  {
   "attachments": {},
   "cell_type": "markdown",
   "id": "1bd3a74c",
   "metadata": {
    "papermill": {
     "duration": 0.010863,
     "end_time": "2023-05-31T09:54:01.627866",
     "exception": false,
     "start_time": "2023-05-31T09:54:01.617003",
     "status": "completed"
    },
    "tags": []
   },
   "source": [
    "### General functions"
   ]
  },
  {
   "cell_type": "code",
   "execution_count": null,
   "id": "323bfc7b",
   "metadata": {},
   "outputs": [],
   "source": [
    "f1_class_0_scorer = make_scorer(f1_score, pos_label=0)\n",
    "f1_class_1_scorer = make_scorer(f1_score, pos_label=1)\n",
    "recall_class_0_scorer = make_scorer(recall_score, pos_label=0)\n",
    "precision_class_0_scorer = make_scorer(precision_score, pos_label=0)\n",
    "average_precision_score_macro = make_scorer(average_precision_score, average='macro')\n",
    "roc_auc_macro_scorer = make_scorer(roc_auc_score, average='macro')\n",
    "\n",
    "scoring_dict = {\n",
    "    'f1_class_0': f1_class_0_scorer,\n",
    "    'f1_class_1': f1_class_1_scorer,\n",
    "    'f1_macro': 'f1_macro',\n",
    "    'recall_0': recall_class_0_scorer,\n",
    "    'precision_0': precision_class_0_scorer,\n",
    "    'AP_macro': average_precision_score_macro,\n",
    "    'roc_auc_macro': roc_auc_macro_scorer,\n",
    "}"
   ]
  },
  {
   "cell_type": "code",
   "execution_count": null,
   "id": "ad9d1c68",
   "metadata": {},
   "outputs": [],
   "source": [
    "def hypermodel(X_train, y_train, model, params={}, scoring_dict=scoring_dict, prepA=preprocessing_oh_target, \n",
    "               prepB=preprocessing_oh, sampA=RandomUnderSampler(random_state=rng), sampB=SMOTE(random_state=rng)):\n",
    "    \n",
    "    pipeAA = imbPipeline([\n",
    "        ('preprocessing', prepA),\n",
    "        ('undersampler', sampA),\n",
    "        ('classifier', model)\n",
    "    ])\n",
    "\n",
    "    pipeBB = imbPipeline([\n",
    "        ('preprocessing', prepB),\n",
    "        ('undersampler', sampB),\n",
    "        ('classifier', model)\n",
    "    ])\n",
    "\n",
    "    pipeAB = imbPipeline([\n",
    "        ('preprocessing', prepA),\n",
    "        ('undersampler', sampB),\n",
    "        ('classifier', model)\n",
    "    ])\n",
    "\n",
    "    pipeBA = imbPipeline([\n",
    "        ('preprocessing', prepB),\n",
    "        ('undersampler', sampA),\n",
    "        ('classifier', model)\n",
    "    ])\n",
    "\n",
    "    pipeA0 = imbPipeline([\n",
    "        ('preprocessing', prepA),\n",
    "        ('classifier', model)\n",
    "    ])\n",
    "    \n",
    "    pipeB0 = imbPipeline([\n",
    "        ('preprocessing', prepB),\n",
    "        ('classifier', model)\n",
    "    ])\n",
    "\n",
    "    pipes = [pipeAA, pipeAB, pipeA0, pipeBA, pipeBB, pipeB0]\n",
    "    grids = []\n",
    "    for pipe in pipes:\n",
    "        # grid search\n",
    "        grid = GridSearchCV(pipe, params, cv=5, scoring=scoring_dict, refit='f1_class_0', n_jobs=-1, verbose=1)\n",
    "        grid.fit(X_train, y_train)\n",
    "        grids.append(grid)\n",
    "\n",
    "    # get max index of grids using f1_class_0 as measure\n",
    "    max_index = np.argmax([grid.best_score_ for grid in grids])\n",
    "    # get best grid\n",
    "    best_grid = grids[max_index]\n",
    "\n",
    "\n",
    "    return best_grid"
   ]
  },
  {
   "attachments": {},
   "cell_type": "markdown",
   "id": "66db7af4",
   "metadata": {},
   "source": [
    "Get the data"
   ]
  },
  {
   "cell_type": "code",
   "execution_count": null,
   "id": "d71cb462",
   "metadata": {},
   "outputs": [
    {
     "name": "stdout",
     "output_type": "stream",
     "text": [
      "set()\n"
     ]
    },
    {
     "data": {
      "text/plain": [
       "((44310, 33), (11078, 33), (13848, 33))"
      ]
     },
     "metadata": {},
     "output_type": "display_data"
    }
   ],
   "source": [
    "X_train, X_test, y_train, y_test = get_train_test(balanced=False)\n",
    "X_train, X_val, y_train, y_val = train_test_split(X_train, y_train, test_size=0.2, random_state=rng)\n",
    "X_train.shape, X_val.shape, X_test.shape"
   ]
  },
  {
   "attachments": {},
   "cell_type": "markdown",
   "id": "ab0ff588",
   "metadata": {
    "papermill": {
     "duration": 0.009094,
     "end_time": "2023-05-31T09:54:04.674794",
     "exception": false,
     "start_time": "2023-05-31T09:54:04.665700",
     "status": "completed"
    },
    "tags": []
   },
   "source": [
    "### Decision Tree"
   ]
  },
  {
   "cell_type": "code",
   "execution_count": 7,
   "id": "336146f5",
   "metadata": {
    "execution": {
     "iopub.execute_input": "2023-05-31T09:54:04.695390Z",
     "iopub.status.busy": "2023-05-31T09:54:04.694884Z",
     "iopub.status.idle": "2023-05-31T15:11:42.642676Z",
     "shell.execute_reply": "2023-05-31T15:11:42.640232Z"
    },
    "papermill": {
     "duration": 19057.972048,
     "end_time": "2023-05-31T15:11:42.655967",
     "exception": false,
     "start_time": "2023-05-31T09:54:04.683919",
     "status": "completed"
    },
    "tags": []
   },
   "outputs": [
    {
     "name": "stdout",
     "output_type": "stream",
     "text": [
      "Fitting 5 folds for each of 750 candidates, totalling 3750 fits\n",
      "Fitting 5 folds for each of 750 candidates, totalling 3750 fits\n",
      "Fitting 5 folds for each of 750 candidates, totalling 3750 fits\n",
      "Fitting 5 folds for each of 750 candidates, totalling 3750 fits\n",
      "Fitting 5 folds for each of 750 candidates, totalling 3750 fits\n",
      "Fitting 5 folds for each of 750 candidates, totalling 3750 fits\n"
     ]
    },
    {
     "name": "stderr",
     "output_type": "stream",
     "text": [
      "/opt/conda/lib/python3.10/site-packages/sklearn/metrics/_classification.py:1344: UndefinedMetricWarning: Precision is ill-defined and being set to 0.0 due to no predicted samples. Use `zero_division` parameter to control this behavior.\n",
      "  _warn_prf(average, modifier, msg_start, len(result))\n",
      "/opt/conda/lib/python3.10/site-packages/sklearn/metrics/_classification.py:1344: UndefinedMetricWarning: Precision is ill-defined and being set to 0.0 due to no predicted samples. Use `zero_division` parameter to control this behavior.\n",
      "  _warn_prf(average, modifier, msg_start, len(result))\n",
      "/opt/conda/lib/python3.10/site-packages/sklearn/metrics/_classification.py:1344: UndefinedMetricWarning: Precision is ill-defined and being set to 0.0 due to no predicted samples. Use `zero_division` parameter to control this behavior.\n",
      "  _warn_prf(average, modifier, msg_start, len(result))\n"
     ]
    },
    {
     "name": "stdout",
     "output_type": "stream",
     "text": [
      "5:17:37.936565\n"
     ]
    }
   ],
   "source": [
    "model = DecisionTreeClassifier()\n",
    "\n",
    "params = {\n",
    "    'classifier__criterion' : ['gini', 'entropy'],\n",
    "    'classifier__max_depth' : [None, 5, 10, 15, 20],\n",
    "    'classifier__min_samples_split' : [1, 2, 3, 4, 5],\n",
    "    'classifier__min_samples_leaf' : [1, 2, 3, 4, 5],\n",
    "    'classifier__max_features' : ['sqrt', 'log2', None]\n",
    "}\n",
    "\n",
    "init_time = time()\n",
    "best_DT = hypermodel(X_train, y_train, model, params=params)\n",
    "print(timedelta(seconds=(time() - init_time)))"
   ]
  },
  {
   "cell_type": "code",
   "execution_count": 8,
   "id": "95757b90",
   "metadata": {
    "execution": {
     "iopub.execute_input": "2023-05-31T15:11:42.680097Z",
     "iopub.status.busy": "2023-05-31T15:11:42.679587Z",
     "iopub.status.idle": "2023-05-31T15:11:42.784382Z",
     "shell.execute_reply": "2023-05-31T15:11:42.782966Z"
    },
    "papermill": {
     "duration": 0.121607,
     "end_time": "2023-05-31T15:11:42.788046",
     "exception": false,
     "start_time": "2023-05-31T15:11:42.666439",
     "status": "completed"
    },
    "tags": []
   },
   "outputs": [
    {
     "data": {
      "text/html": [
       "<style>#sk-container-id-1 {color: black;background-color: white;}#sk-container-id-1 pre{padding: 0;}#sk-container-id-1 div.sk-toggleable {background-color: white;}#sk-container-id-1 label.sk-toggleable__label {cursor: pointer;display: block;width: 100%;margin-bottom: 0;padding: 0.3em;box-sizing: border-box;text-align: center;}#sk-container-id-1 label.sk-toggleable__label-arrow:before {content: \"▸\";float: left;margin-right: 0.25em;color: #696969;}#sk-container-id-1 label.sk-toggleable__label-arrow:hover:before {color: black;}#sk-container-id-1 div.sk-estimator:hover label.sk-toggleable__label-arrow:before {color: black;}#sk-container-id-1 div.sk-toggleable__content {max-height: 0;max-width: 0;overflow: hidden;text-align: left;background-color: #f0f8ff;}#sk-container-id-1 div.sk-toggleable__content pre {margin: 0.2em;color: black;border-radius: 0.25em;background-color: #f0f8ff;}#sk-container-id-1 input.sk-toggleable__control:checked~div.sk-toggleable__content {max-height: 200px;max-width: 100%;overflow: auto;}#sk-container-id-1 input.sk-toggleable__control:checked~label.sk-toggleable__label-arrow:before {content: \"▾\";}#sk-container-id-1 div.sk-estimator input.sk-toggleable__control:checked~label.sk-toggleable__label {background-color: #d4ebff;}#sk-container-id-1 div.sk-label input.sk-toggleable__control:checked~label.sk-toggleable__label {background-color: #d4ebff;}#sk-container-id-1 input.sk-hidden--visually {border: 0;clip: rect(1px 1px 1px 1px);clip: rect(1px, 1px, 1px, 1px);height: 1px;margin: -1px;overflow: hidden;padding: 0;position: absolute;width: 1px;}#sk-container-id-1 div.sk-estimator {font-family: monospace;background-color: #f0f8ff;border: 1px dotted black;border-radius: 0.25em;box-sizing: border-box;margin-bottom: 0.5em;}#sk-container-id-1 div.sk-estimator:hover {background-color: #d4ebff;}#sk-container-id-1 div.sk-parallel-item::after {content: \"\";width: 100%;border-bottom: 1px solid gray;flex-grow: 1;}#sk-container-id-1 div.sk-label:hover label.sk-toggleable__label {background-color: #d4ebff;}#sk-container-id-1 div.sk-serial::before {content: \"\";position: absolute;border-left: 1px solid gray;box-sizing: border-box;top: 0;bottom: 0;left: 50%;z-index: 0;}#sk-container-id-1 div.sk-serial {display: flex;flex-direction: column;align-items: center;background-color: white;padding-right: 0.2em;padding-left: 0.2em;position: relative;}#sk-container-id-1 div.sk-item {position: relative;z-index: 1;}#sk-container-id-1 div.sk-parallel {display: flex;align-items: stretch;justify-content: center;background-color: white;position: relative;}#sk-container-id-1 div.sk-item::before, #sk-container-id-1 div.sk-parallel-item::before {content: \"\";position: absolute;border-left: 1px solid gray;box-sizing: border-box;top: 0;bottom: 0;left: 50%;z-index: -1;}#sk-container-id-1 div.sk-parallel-item {display: flex;flex-direction: column;z-index: 1;position: relative;background-color: white;}#sk-container-id-1 div.sk-parallel-item:first-child::after {align-self: flex-end;width: 50%;}#sk-container-id-1 div.sk-parallel-item:last-child::after {align-self: flex-start;width: 50%;}#sk-container-id-1 div.sk-parallel-item:only-child::after {width: 0;}#sk-container-id-1 div.sk-dashed-wrapped {border: 1px dashed gray;margin: 0 0.4em 0.5em 0.4em;box-sizing: border-box;padding-bottom: 0.4em;background-color: white;}#sk-container-id-1 div.sk-label label {font-family: monospace;font-weight: bold;display: inline-block;line-height: 1.2em;}#sk-container-id-1 div.sk-label-container {text-align: center;}#sk-container-id-1 div.sk-container {/* jupyter's `normalize.less` sets `[hidden] { display: none; }` but bootstrap.min.css set `[hidden] { display: none !important; }` so we also need the `!important` here to be able to override the default hidden behavior on the sphinx rendered scikit-learn.org. See: https://github.com/scikit-learn/scikit-learn/issues/21755 */display: inline-block !important;position: relative;}#sk-container-id-1 div.sk-text-repr-fallback {display: none;}</style><div id=\"sk-container-id-1\" class=\"sk-top-container\"><div class=\"sk-text-repr-fallback\"><pre>Pipeline(steps=[(&#x27;preprocessing&#x27;,\n",
       "                 ColumnTransformer(remainder=&#x27;passthrough&#x27;,\n",
       "                                   transformers=[(&#x27;scaler&#x27;, RobustScaler(),\n",
       "                                                  [&#x27;NFAMS&#x27;, &#x27;FAMSIZE&#x27;, &#x27;NCHILD&#x27;,\n",
       "                                                   &#x27;NCHLT5&#x27;, &#x27;NSIBS&#x27;,\n",
       "                                                   &#x27;YRIMMIG&#x27;]),\n",
       "                                                 (&#x27;onehot&#x27;,\n",
       "                                                  OneHotEncoder(handle_unknown=&#x27;ignore&#x27;),\n",
       "                                                  [&#x27;GQTYPE&#x27;, &#x27;METRO&#x27;, &#x27;INTTYPE&#x27;,\n",
       "                                                   &#x27;SEX&#x27;, &#x27;VETSTAT&#x27;, &#x27;CITIZEN&#x27;,\n",
       "                                                   &#x27;DIFFANY&#x27;, &#x27;COVIDUNAW&#x27;,\n",
       "                                                   &#x27;NATIVITY&#x27;, &#x27;COVIDPAID&#x27;]),\n",
       "                                                 (&#x27;target_econder&#x27;,\n",
       "                                                  TargetEncoder(),\n",
       "                                                  [&#x27;STATEFIP&#x27;, &#x27;RELATE&#x27;, &#x27;RACE&#x27;,\n",
       "                                                   &#x27;MARST&#x27;, &#x27;BPL&#x27;, &#x27;MBPL&#x27;,\n",
       "                                                   &#x27;FBPL&#x27;, &#x27;HISPAN&#x27;, &#x27;EMPSTAT&#x27;,\n",
       "                                                   &#x27;CLASSWKR&#x27;,\n",
       "                                                   &#x27;EMPSTAT_HEAD&#x27;]),\n",
       "                                                 (&#x27;imputer&#x27;,\n",
       "                                                  Pipeline(steps=[(&#x27;scaler&#x27;,\n",
       "                                                                   RobustScaler()),\n",
       "                                                                  (&#x27;imputer&#x27;,\n",
       "                                                                   IterativeImputer(random_state=42))]),\n",
       "                                                  [&#x27;UHRSWORKT&#x27;])])),\n",
       "                (&#x27;undersampler&#x27;, RandomUnderSampler(random_state=42)),\n",
       "                (&#x27;classifier&#x27;,\n",
       "                 DecisionTreeClassifier(max_depth=5, min_samples_split=5))])</pre><b>In a Jupyter environment, please rerun this cell to show the HTML representation or trust the notebook. <br />On GitHub, the HTML representation is unable to render, please try loading this page with nbviewer.org.</b></div><div class=\"sk-container\" hidden><div class=\"sk-item sk-dashed-wrapped\"><div class=\"sk-label-container\"><div class=\"sk-label sk-toggleable\"><input class=\"sk-toggleable__control sk-hidden--visually\" id=\"sk-estimator-id-1\" type=\"checkbox\" ><label for=\"sk-estimator-id-1\" class=\"sk-toggleable__label sk-toggleable__label-arrow\">Pipeline</label><div class=\"sk-toggleable__content\"><pre>Pipeline(steps=[(&#x27;preprocessing&#x27;,\n",
       "                 ColumnTransformer(remainder=&#x27;passthrough&#x27;,\n",
       "                                   transformers=[(&#x27;scaler&#x27;, RobustScaler(),\n",
       "                                                  [&#x27;NFAMS&#x27;, &#x27;FAMSIZE&#x27;, &#x27;NCHILD&#x27;,\n",
       "                                                   &#x27;NCHLT5&#x27;, &#x27;NSIBS&#x27;,\n",
       "                                                   &#x27;YRIMMIG&#x27;]),\n",
       "                                                 (&#x27;onehot&#x27;,\n",
       "                                                  OneHotEncoder(handle_unknown=&#x27;ignore&#x27;),\n",
       "                                                  [&#x27;GQTYPE&#x27;, &#x27;METRO&#x27;, &#x27;INTTYPE&#x27;,\n",
       "                                                   &#x27;SEX&#x27;, &#x27;VETSTAT&#x27;, &#x27;CITIZEN&#x27;,\n",
       "                                                   &#x27;DIFFANY&#x27;, &#x27;COVIDUNAW&#x27;,\n",
       "                                                   &#x27;NATIVITY&#x27;, &#x27;COVIDPAID&#x27;]),\n",
       "                                                 (&#x27;target_econder&#x27;,\n",
       "                                                  TargetEncoder(),\n",
       "                                                  [&#x27;STATEFIP&#x27;, &#x27;RELATE&#x27;, &#x27;RACE&#x27;,\n",
       "                                                   &#x27;MARST&#x27;, &#x27;BPL&#x27;, &#x27;MBPL&#x27;,\n",
       "                                                   &#x27;FBPL&#x27;, &#x27;HISPAN&#x27;, &#x27;EMPSTAT&#x27;,\n",
       "                                                   &#x27;CLASSWKR&#x27;,\n",
       "                                                   &#x27;EMPSTAT_HEAD&#x27;]),\n",
       "                                                 (&#x27;imputer&#x27;,\n",
       "                                                  Pipeline(steps=[(&#x27;scaler&#x27;,\n",
       "                                                                   RobustScaler()),\n",
       "                                                                  (&#x27;imputer&#x27;,\n",
       "                                                                   IterativeImputer(random_state=42))]),\n",
       "                                                  [&#x27;UHRSWORKT&#x27;])])),\n",
       "                (&#x27;undersampler&#x27;, RandomUnderSampler(random_state=42)),\n",
       "                (&#x27;classifier&#x27;,\n",
       "                 DecisionTreeClassifier(max_depth=5, min_samples_split=5))])</pre></div></div></div><div class=\"sk-serial\"><div class=\"sk-item sk-dashed-wrapped\"><div class=\"sk-label-container\"><div class=\"sk-label sk-toggleable\"><input class=\"sk-toggleable__control sk-hidden--visually\" id=\"sk-estimator-id-2\" type=\"checkbox\" ><label for=\"sk-estimator-id-2\" class=\"sk-toggleable__label sk-toggleable__label-arrow\">preprocessing: ColumnTransformer</label><div class=\"sk-toggleable__content\"><pre>ColumnTransformer(remainder=&#x27;passthrough&#x27;,\n",
       "                  transformers=[(&#x27;scaler&#x27;, RobustScaler(),\n",
       "                                 [&#x27;NFAMS&#x27;, &#x27;FAMSIZE&#x27;, &#x27;NCHILD&#x27;, &#x27;NCHLT5&#x27;,\n",
       "                                  &#x27;NSIBS&#x27;, &#x27;YRIMMIG&#x27;]),\n",
       "                                (&#x27;onehot&#x27;,\n",
       "                                 OneHotEncoder(handle_unknown=&#x27;ignore&#x27;),\n",
       "                                 [&#x27;GQTYPE&#x27;, &#x27;METRO&#x27;, &#x27;INTTYPE&#x27;, &#x27;SEX&#x27;,\n",
       "                                  &#x27;VETSTAT&#x27;, &#x27;CITIZEN&#x27;, &#x27;DIFFANY&#x27;, &#x27;COVIDUNAW&#x27;,\n",
       "                                  &#x27;NATIVITY&#x27;, &#x27;COVIDPAID&#x27;]),\n",
       "                                (&#x27;target_econder&#x27;, TargetEncoder(),\n",
       "                                 [&#x27;STATEFIP&#x27;, &#x27;RELATE&#x27;, &#x27;RACE&#x27;, &#x27;MARST&#x27;, &#x27;BPL&#x27;,\n",
       "                                  &#x27;MBPL&#x27;, &#x27;FBPL&#x27;, &#x27;HISPAN&#x27;, &#x27;EMPSTAT&#x27;,\n",
       "                                  &#x27;CLASSWKR&#x27;, &#x27;EMPSTAT_HEAD&#x27;]),\n",
       "                                (&#x27;imputer&#x27;,\n",
       "                                 Pipeline(steps=[(&#x27;scaler&#x27;, RobustScaler()),\n",
       "                                                 (&#x27;imputer&#x27;,\n",
       "                                                  IterativeImputer(random_state=42))]),\n",
       "                                 [&#x27;UHRSWORKT&#x27;])])</pre></div></div></div><div class=\"sk-parallel\"><div class=\"sk-parallel-item\"><div class=\"sk-item\"><div class=\"sk-label-container\"><div class=\"sk-label sk-toggleable\"><input class=\"sk-toggleable__control sk-hidden--visually\" id=\"sk-estimator-id-3\" type=\"checkbox\" ><label for=\"sk-estimator-id-3\" class=\"sk-toggleable__label sk-toggleable__label-arrow\">scaler</label><div class=\"sk-toggleable__content\"><pre>[&#x27;NFAMS&#x27;, &#x27;FAMSIZE&#x27;, &#x27;NCHILD&#x27;, &#x27;NCHLT5&#x27;, &#x27;NSIBS&#x27;, &#x27;YRIMMIG&#x27;]</pre></div></div></div><div class=\"sk-serial\"><div class=\"sk-item\"><div class=\"sk-estimator sk-toggleable\"><input class=\"sk-toggleable__control sk-hidden--visually\" id=\"sk-estimator-id-4\" type=\"checkbox\" ><label for=\"sk-estimator-id-4\" class=\"sk-toggleable__label sk-toggleable__label-arrow\">RobustScaler</label><div class=\"sk-toggleable__content\"><pre>RobustScaler()</pre></div></div></div></div></div></div><div class=\"sk-parallel-item\"><div class=\"sk-item\"><div class=\"sk-label-container\"><div class=\"sk-label sk-toggleable\"><input class=\"sk-toggleable__control sk-hidden--visually\" id=\"sk-estimator-id-5\" type=\"checkbox\" ><label for=\"sk-estimator-id-5\" class=\"sk-toggleable__label sk-toggleable__label-arrow\">onehot</label><div class=\"sk-toggleable__content\"><pre>[&#x27;GQTYPE&#x27;, &#x27;METRO&#x27;, &#x27;INTTYPE&#x27;, &#x27;SEX&#x27;, &#x27;VETSTAT&#x27;, &#x27;CITIZEN&#x27;, &#x27;DIFFANY&#x27;, &#x27;COVIDUNAW&#x27;, &#x27;NATIVITY&#x27;, &#x27;COVIDPAID&#x27;]</pre></div></div></div><div class=\"sk-serial\"><div class=\"sk-item\"><div class=\"sk-estimator sk-toggleable\"><input class=\"sk-toggleable__control sk-hidden--visually\" id=\"sk-estimator-id-6\" type=\"checkbox\" ><label for=\"sk-estimator-id-6\" class=\"sk-toggleable__label sk-toggleable__label-arrow\">OneHotEncoder</label><div class=\"sk-toggleable__content\"><pre>OneHotEncoder(handle_unknown=&#x27;ignore&#x27;)</pre></div></div></div></div></div></div><div class=\"sk-parallel-item\"><div class=\"sk-item\"><div class=\"sk-label-container\"><div class=\"sk-label sk-toggleable\"><input class=\"sk-toggleable__control sk-hidden--visually\" id=\"sk-estimator-id-7\" type=\"checkbox\" ><label for=\"sk-estimator-id-7\" class=\"sk-toggleable__label sk-toggleable__label-arrow\">target_econder</label><div class=\"sk-toggleable__content\"><pre>[&#x27;STATEFIP&#x27;, &#x27;RELATE&#x27;, &#x27;RACE&#x27;, &#x27;MARST&#x27;, &#x27;BPL&#x27;, &#x27;MBPL&#x27;, &#x27;FBPL&#x27;, &#x27;HISPAN&#x27;, &#x27;EMPSTAT&#x27;, &#x27;CLASSWKR&#x27;, &#x27;EMPSTAT_HEAD&#x27;]</pre></div></div></div><div class=\"sk-serial\"><div class=\"sk-item\"><div class=\"sk-estimator sk-toggleable\"><input class=\"sk-toggleable__control sk-hidden--visually\" id=\"sk-estimator-id-8\" type=\"checkbox\" ><label for=\"sk-estimator-id-8\" class=\"sk-toggleable__label sk-toggleable__label-arrow\">TargetEncoder</label><div class=\"sk-toggleable__content\"><pre>TargetEncoder()</pre></div></div></div></div></div></div><div class=\"sk-parallel-item\"><div class=\"sk-item\"><div class=\"sk-label-container\"><div class=\"sk-label sk-toggleable\"><input class=\"sk-toggleable__control sk-hidden--visually\" id=\"sk-estimator-id-9\" type=\"checkbox\" ><label for=\"sk-estimator-id-9\" class=\"sk-toggleable__label sk-toggleable__label-arrow\">imputer</label><div class=\"sk-toggleable__content\"><pre>[&#x27;UHRSWORKT&#x27;]</pre></div></div></div><div class=\"sk-serial\"><div class=\"sk-item\"><div class=\"sk-serial\"><div class=\"sk-item\"><div class=\"sk-estimator sk-toggleable\"><input class=\"sk-toggleable__control sk-hidden--visually\" id=\"sk-estimator-id-10\" type=\"checkbox\" ><label for=\"sk-estimator-id-10\" class=\"sk-toggleable__label sk-toggleable__label-arrow\">RobustScaler</label><div class=\"sk-toggleable__content\"><pre>RobustScaler()</pre></div></div></div><div class=\"sk-item\"><div class=\"sk-estimator sk-toggleable\"><input class=\"sk-toggleable__control sk-hidden--visually\" id=\"sk-estimator-id-11\" type=\"checkbox\" ><label for=\"sk-estimator-id-11\" class=\"sk-toggleable__label sk-toggleable__label-arrow\">IterativeImputer</label><div class=\"sk-toggleable__content\"><pre>IterativeImputer(random_state=42)</pre></div></div></div></div></div></div></div></div><div class=\"sk-parallel-item\"><div class=\"sk-item\"><div class=\"sk-label-container\"><div class=\"sk-label sk-toggleable\"><input class=\"sk-toggleable__control sk-hidden--visually\" id=\"sk-estimator-id-12\" type=\"checkbox\" ><label for=\"sk-estimator-id-12\" class=\"sk-toggleable__label sk-toggleable__label-arrow\">remainder</label><div class=\"sk-toggleable__content\"><pre>[&#x27;FAMINC&#x27;, &#x27;AGE&#x27;, &#x27;EDUC&#x27;, &#x27;EDUC_HEAD&#x27;, &#x27;VOTERES&#x27;]</pre></div></div></div><div class=\"sk-serial\"><div class=\"sk-item\"><div class=\"sk-estimator sk-toggleable\"><input class=\"sk-toggleable__control sk-hidden--visually\" id=\"sk-estimator-id-13\" type=\"checkbox\" ><label for=\"sk-estimator-id-13\" class=\"sk-toggleable__label sk-toggleable__label-arrow\">passthrough</label><div class=\"sk-toggleable__content\"><pre>passthrough</pre></div></div></div></div></div></div></div></div><div class=\"sk-item\"><div class=\"sk-estimator sk-toggleable\"><input class=\"sk-toggleable__control sk-hidden--visually\" id=\"sk-estimator-id-14\" type=\"checkbox\" ><label for=\"sk-estimator-id-14\" class=\"sk-toggleable__label sk-toggleable__label-arrow\">RandomUnderSampler</label><div class=\"sk-toggleable__content\"><pre>RandomUnderSampler(random_state=42)</pre></div></div></div><div class=\"sk-item\"><div class=\"sk-estimator sk-toggleable\"><input class=\"sk-toggleable__control sk-hidden--visually\" id=\"sk-estimator-id-15\" type=\"checkbox\" ><label for=\"sk-estimator-id-15\" class=\"sk-toggleable__label sk-toggleable__label-arrow\">DecisionTreeClassifier</label><div class=\"sk-toggleable__content\"><pre>DecisionTreeClassifier(max_depth=5, min_samples_split=5)</pre></div></div></div></div></div></div></div>"
      ],
      "text/plain": [
       "Pipeline(steps=[('preprocessing',\n",
       "                 ColumnTransformer(remainder='passthrough',\n",
       "                                   transformers=[('scaler', RobustScaler(),\n",
       "                                                  ['NFAMS', 'FAMSIZE', 'NCHILD',\n",
       "                                                   'NCHLT5', 'NSIBS',\n",
       "                                                   'YRIMMIG']),\n",
       "                                                 ('onehot',\n",
       "                                                  OneHotEncoder(handle_unknown='ignore'),\n",
       "                                                  ['GQTYPE', 'METRO', 'INTTYPE',\n",
       "                                                   'SEX', 'VETSTAT', 'CITIZEN',\n",
       "                                                   'DIFFANY', 'COVIDUNAW',\n",
       "                                                   'NATIVITY', 'COVIDPAID']),\n",
       "                                                 ('target_econder',\n",
       "                                                  TargetEncoder(),\n",
       "                                                  ['STATEFIP', 'RELATE', 'RACE',\n",
       "                                                   'MARST', 'BPL', 'MBPL',\n",
       "                                                   'FBPL', 'HISPAN', 'EMPSTAT',\n",
       "                                                   'CLASSWKR',\n",
       "                                                   'EMPSTAT_HEAD']),\n",
       "                                                 ('imputer',\n",
       "                                                  Pipeline(steps=[('scaler',\n",
       "                                                                   RobustScaler()),\n",
       "                                                                  ('imputer',\n",
       "                                                                   IterativeImputer(random_state=42))]),\n",
       "                                                  ['UHRSWORKT'])])),\n",
       "                ('undersampler', RandomUnderSampler(random_state=42)),\n",
       "                ('classifier',\n",
       "                 DecisionTreeClassifier(max_depth=5, min_samples_split=5))])"
      ]
     },
     "execution_count": 8,
     "metadata": {},
     "output_type": "execute_result"
    }
   ],
   "source": [
    "best_DT.best_estimator_"
   ]
  },
  {
   "cell_type": "code",
   "execution_count": 9,
   "id": "16535252",
   "metadata": {
    "execution": {
     "iopub.execute_input": "2023-05-31T15:11:42.816529Z",
     "iopub.status.busy": "2023-05-31T15:11:42.815532Z",
     "iopub.status.idle": "2023-05-31T15:11:42.865556Z",
     "shell.execute_reply": "2023-05-31T15:11:42.864289Z"
    },
    "papermill": {
     "duration": 0.066351,
     "end_time": "2023-05-31T15:11:42.868302",
     "exception": false,
     "start_time": "2023-05-31T15:11:42.801951",
     "status": "completed"
    },
    "tags": []
   },
   "outputs": [
    {
     "data": {
      "text/html": [
       "<div>\n",
       "<style scoped>\n",
       "    .dataframe tbody tr th:only-of-type {\n",
       "        vertical-align: middle;\n",
       "    }\n",
       "\n",
       "    .dataframe tbody tr th {\n",
       "        vertical-align: top;\n",
       "    }\n",
       "\n",
       "    .dataframe thead th {\n",
       "        text-align: right;\n",
       "    }\n",
       "</style>\n",
       "<table border=\"1\" class=\"dataframe\">\n",
       "  <thead>\n",
       "    <tr style=\"text-align: right;\">\n",
       "      <th></th>\n",
       "      <th>param_classifier__criterion</th>\n",
       "      <th>param_classifier__max_depth</th>\n",
       "      <th>param_classifier__min_samples_split</th>\n",
       "      <th>param_classifier__min_samples_leaf</th>\n",
       "      <th>param_classifier__max_features</th>\n",
       "      <th>mean_test_f1_class_0</th>\n",
       "      <th>mean_test_f1_class_1</th>\n",
       "      <th>mean_test_f1_macro</th>\n",
       "      <th>mean_test_recall_0</th>\n",
       "      <th>mean_test_precision_0</th>\n",
       "      <th>mean_test_AP_macro</th>\n",
       "      <th>mean_test_roc_auc_macro</th>\n",
       "    </tr>\n",
       "  </thead>\n",
       "  <tbody>\n",
       "    <tr>\n",
       "      <th>134</th>\n",
       "      <td>gini</td>\n",
       "      <td>5</td>\n",
       "      <td>5</td>\n",
       "      <td>2</td>\n",
       "      <td>None</td>\n",
       "      <td>0.486</td>\n",
       "      <td>0.797</td>\n",
       "      <td>0.641</td>\n",
       "      <td>0.676</td>\n",
       "      <td>0.382</td>\n",
       "      <td>0.868</td>\n",
       "      <td>0.697</td>\n",
       "    </tr>\n",
       "    <tr>\n",
       "      <th>129</th>\n",
       "      <td>gini</td>\n",
       "      <td>5</td>\n",
       "      <td>5</td>\n",
       "      <td>1</td>\n",
       "      <td>None</td>\n",
       "      <td>0.486</td>\n",
       "      <td>0.797</td>\n",
       "      <td>0.641</td>\n",
       "      <td>0.676</td>\n",
       "      <td>0.382</td>\n",
       "      <td>0.868</td>\n",
       "      <td>0.697</td>\n",
       "    </tr>\n",
       "    <tr>\n",
       "      <th>131</th>\n",
       "      <td>gini</td>\n",
       "      <td>5</td>\n",
       "      <td>2</td>\n",
       "      <td>2</td>\n",
       "      <td>None</td>\n",
       "      <td>0.486</td>\n",
       "      <td>0.797</td>\n",
       "      <td>0.641</td>\n",
       "      <td>0.676</td>\n",
       "      <td>0.382</td>\n",
       "      <td>0.868</td>\n",
       "      <td>0.697</td>\n",
       "    </tr>\n",
       "    <tr>\n",
       "      <th>133</th>\n",
       "      <td>gini</td>\n",
       "      <td>5</td>\n",
       "      <td>4</td>\n",
       "      <td>2</td>\n",
       "      <td>None</td>\n",
       "      <td>0.486</td>\n",
       "      <td>0.797</td>\n",
       "      <td>0.641</td>\n",
       "      <td>0.676</td>\n",
       "      <td>0.381</td>\n",
       "      <td>0.868</td>\n",
       "      <td>0.697</td>\n",
       "    </tr>\n",
       "    <tr>\n",
       "      <th>126</th>\n",
       "      <td>gini</td>\n",
       "      <td>5</td>\n",
       "      <td>2</td>\n",
       "      <td>1</td>\n",
       "      <td>None</td>\n",
       "      <td>0.486</td>\n",
       "      <td>0.797</td>\n",
       "      <td>0.641</td>\n",
       "      <td>0.676</td>\n",
       "      <td>0.381</td>\n",
       "      <td>0.868</td>\n",
       "      <td>0.697</td>\n",
       "    </tr>\n",
       "  </tbody>\n",
       "</table>\n",
       "</div>"
      ],
      "text/plain": [
       "    param_classifier__criterion param_classifier__max_depth  \\\n",
       "134                        gini                           5   \n",
       "129                        gini                           5   \n",
       "131                        gini                           5   \n",
       "133                        gini                           5   \n",
       "126                        gini                           5   \n",
       "\n",
       "    param_classifier__min_samples_split param_classifier__min_samples_leaf  \\\n",
       "134                                   5                                  2   \n",
       "129                                   5                                  1   \n",
       "131                                   2                                  2   \n",
       "133                                   4                                  2   \n",
       "126                                   2                                  1   \n",
       "\n",
       "    param_classifier__max_features  mean_test_f1_class_0  \\\n",
       "134                           None                 0.486   \n",
       "129                           None                 0.486   \n",
       "131                           None                 0.486   \n",
       "133                           None                 0.486   \n",
       "126                           None                 0.486   \n",
       "\n",
       "     mean_test_f1_class_1  mean_test_f1_macro  mean_test_recall_0  \\\n",
       "134                 0.797               0.641               0.676   \n",
       "129                 0.797               0.641               0.676   \n",
       "131                 0.797               0.641               0.676   \n",
       "133                 0.797               0.641               0.676   \n",
       "126                 0.797               0.641               0.676   \n",
       "\n",
       "     mean_test_precision_0  mean_test_AP_macro  mean_test_roc_auc_macro  \n",
       "134                  0.382               0.868                    0.697  \n",
       "129                  0.382               0.868                    0.697  \n",
       "131                  0.382               0.868                    0.697  \n",
       "133                  0.381               0.868                    0.697  \n",
       "126                  0.381               0.868                    0.697  "
      ]
     },
     "execution_count": 9,
     "metadata": {},
     "output_type": "execute_result"
    }
   ],
   "source": [
    "scoring_cols = [ 'param_classifier__criterion', 'param_classifier__max_depth', 'param_classifier__min_samples_split',\n",
    "                'param_classifier__min_samples_leaf', 'param_classifier__max_features',\n",
    "                'mean_test_f1_class_0', 'mean_test_f1_class_1', 'mean_test_f1_macro',\n",
    "                'mean_test_recall_0', 'mean_test_precision_0', 'mean_test_AP_macro',\n",
    "                'mean_test_roc_auc_macro']\n",
    "\n",
    "pd.DataFrame(best_DT.cv_results_).sort_values(by='mean_test_f1_class_0', ascending=False)[scoring_cols].head()"
   ]
  },
  {
   "cell_type": "code",
   "execution_count": 10,
   "id": "9e34405f",
   "metadata": {
    "execution": {
     "iopub.execute_input": "2023-05-31T15:11:42.894182Z",
     "iopub.status.busy": "2023-05-31T15:11:42.893175Z",
     "iopub.status.idle": "2023-05-31T15:11:42.902044Z",
     "shell.execute_reply": "2023-05-31T15:11:42.900715Z"
    },
    "papermill": {
     "duration": 0.025112,
     "end_time": "2023-05-31T15:11:42.904841",
     "exception": false,
     "start_time": "2023-05-31T15:11:42.879729",
     "status": "completed"
    },
    "tags": []
   },
   "outputs": [
    {
     "data": {
      "text/plain": [
       "{'classifier__criterion': 'gini',\n",
       " 'classifier__max_depth': 5,\n",
       " 'classifier__max_features': None,\n",
       " 'classifier__min_samples_leaf': 1,\n",
       " 'classifier__min_samples_split': 5}"
      ]
     },
     "execution_count": 10,
     "metadata": {},
     "output_type": "execute_result"
    }
   ],
   "source": [
    "DT_best_params = best_DT.best_params_\n",
    "DT_best_params"
   ]
  },
  {
   "attachments": {},
   "cell_type": "markdown",
   "id": "f472be14",
   "metadata": {
    "papermill": {
     "duration": 0.014523,
     "end_time": "2023-05-31T15:11:43.269698",
     "exception": false,
     "start_time": "2023-05-31T15:11:43.255175",
     "status": "completed"
    },
    "tags": []
   },
   "source": [
    "### Random Forests"
   ]
  },
  {
   "cell_type": "code",
   "execution_count": 12,
   "id": "4cce0021",
   "metadata": {
    "execution": {
     "iopub.execute_input": "2023-05-31T15:11:43.300230Z",
     "iopub.status.busy": "2023-05-31T15:11:43.299644Z",
     "iopub.status.idle": "2023-05-31T16:44:01.753961Z",
     "shell.execute_reply": "2023-05-31T16:44:01.752296Z"
    },
    "papermill": {
     "duration": 5538.485367,
     "end_time": "2023-05-31T16:44:01.769312",
     "exception": false,
     "start_time": "2023-05-31T15:11:43.283945",
     "status": "completed"
    },
    "tags": []
   },
   "outputs": [
    {
     "name": "stdout",
     "output_type": "stream",
     "text": [
      "Fitting 5 folds for each of 48 candidates, totalling 240 fits\n",
      "Fitting 5 folds for each of 48 candidates, totalling 240 fits\n",
      "Fitting 5 folds for each of 48 candidates, totalling 240 fits\n",
      "Fitting 5 folds for each of 48 candidates, totalling 240 fits\n",
      "Fitting 5 folds for each of 48 candidates, totalling 240 fits\n",
      "Fitting 5 folds for each of 48 candidates, totalling 240 fits\n",
      "1:32:18.444643\n"
     ]
    }
   ],
   "source": [
    "model = RandomForestClassifier()\n",
    "\n",
    "params = {\n",
    "    'classifier__n_estimators' : [200,None],\n",
    "    'classifier__max_depth' : [100,None],\n",
    "    'classifier__min_samples_split' : [4,6],\n",
    "    'classifier__min_samples_leaf' : [4,6],\n",
    "    'classifier__class_weight' : [None, 'balanced', 'balanced_subsample']\n",
    "}\n",
    "\n",
    "init_time = time()\n",
    "best_RF = hypermodel(X_train, y_train, model, params=params)\n",
    "print(timedelta(seconds=(time() - init_time)))"
   ]
  },
  {
   "cell_type": "code",
   "execution_count": 13,
   "id": "528cf20d",
   "metadata": {
    "execution": {
     "iopub.execute_input": "2023-05-31T16:44:01.796534Z",
     "iopub.status.busy": "2023-05-31T16:44:01.795767Z",
     "iopub.status.idle": "2023-05-31T16:44:01.889385Z",
     "shell.execute_reply": "2023-05-31T16:44:01.888013Z"
    },
    "papermill": {
     "duration": 0.11078,
     "end_time": "2023-05-31T16:44:01.892332",
     "exception": false,
     "start_time": "2023-05-31T16:44:01.781552",
     "status": "completed"
    },
    "tags": []
   },
   "outputs": [
    {
     "data": {
      "text/html": [
       "<style>#sk-container-id-2 {color: black;background-color: white;}#sk-container-id-2 pre{padding: 0;}#sk-container-id-2 div.sk-toggleable {background-color: white;}#sk-container-id-2 label.sk-toggleable__label {cursor: pointer;display: block;width: 100%;margin-bottom: 0;padding: 0.3em;box-sizing: border-box;text-align: center;}#sk-container-id-2 label.sk-toggleable__label-arrow:before {content: \"▸\";float: left;margin-right: 0.25em;color: #696969;}#sk-container-id-2 label.sk-toggleable__label-arrow:hover:before {color: black;}#sk-container-id-2 div.sk-estimator:hover label.sk-toggleable__label-arrow:before {color: black;}#sk-container-id-2 div.sk-toggleable__content {max-height: 0;max-width: 0;overflow: hidden;text-align: left;background-color: #f0f8ff;}#sk-container-id-2 div.sk-toggleable__content pre {margin: 0.2em;color: black;border-radius: 0.25em;background-color: #f0f8ff;}#sk-container-id-2 input.sk-toggleable__control:checked~div.sk-toggleable__content {max-height: 200px;max-width: 100%;overflow: auto;}#sk-container-id-2 input.sk-toggleable__control:checked~label.sk-toggleable__label-arrow:before {content: \"▾\";}#sk-container-id-2 div.sk-estimator input.sk-toggleable__control:checked~label.sk-toggleable__label {background-color: #d4ebff;}#sk-container-id-2 div.sk-label input.sk-toggleable__control:checked~label.sk-toggleable__label {background-color: #d4ebff;}#sk-container-id-2 input.sk-hidden--visually {border: 0;clip: rect(1px 1px 1px 1px);clip: rect(1px, 1px, 1px, 1px);height: 1px;margin: -1px;overflow: hidden;padding: 0;position: absolute;width: 1px;}#sk-container-id-2 div.sk-estimator {font-family: monospace;background-color: #f0f8ff;border: 1px dotted black;border-radius: 0.25em;box-sizing: border-box;margin-bottom: 0.5em;}#sk-container-id-2 div.sk-estimator:hover {background-color: #d4ebff;}#sk-container-id-2 div.sk-parallel-item::after {content: \"\";width: 100%;border-bottom: 1px solid gray;flex-grow: 1;}#sk-container-id-2 div.sk-label:hover label.sk-toggleable__label {background-color: #d4ebff;}#sk-container-id-2 div.sk-serial::before {content: \"\";position: absolute;border-left: 1px solid gray;box-sizing: border-box;top: 0;bottom: 0;left: 50%;z-index: 0;}#sk-container-id-2 div.sk-serial {display: flex;flex-direction: column;align-items: center;background-color: white;padding-right: 0.2em;padding-left: 0.2em;position: relative;}#sk-container-id-2 div.sk-item {position: relative;z-index: 1;}#sk-container-id-2 div.sk-parallel {display: flex;align-items: stretch;justify-content: center;background-color: white;position: relative;}#sk-container-id-2 div.sk-item::before, #sk-container-id-2 div.sk-parallel-item::before {content: \"\";position: absolute;border-left: 1px solid gray;box-sizing: border-box;top: 0;bottom: 0;left: 50%;z-index: -1;}#sk-container-id-2 div.sk-parallel-item {display: flex;flex-direction: column;z-index: 1;position: relative;background-color: white;}#sk-container-id-2 div.sk-parallel-item:first-child::after {align-self: flex-end;width: 50%;}#sk-container-id-2 div.sk-parallel-item:last-child::after {align-self: flex-start;width: 50%;}#sk-container-id-2 div.sk-parallel-item:only-child::after {width: 0;}#sk-container-id-2 div.sk-dashed-wrapped {border: 1px dashed gray;margin: 0 0.4em 0.5em 0.4em;box-sizing: border-box;padding-bottom: 0.4em;background-color: white;}#sk-container-id-2 div.sk-label label {font-family: monospace;font-weight: bold;display: inline-block;line-height: 1.2em;}#sk-container-id-2 div.sk-label-container {text-align: center;}#sk-container-id-2 div.sk-container {/* jupyter's `normalize.less` sets `[hidden] { display: none; }` but bootstrap.min.css set `[hidden] { display: none !important; }` so we also need the `!important` here to be able to override the default hidden behavior on the sphinx rendered scikit-learn.org. See: https://github.com/scikit-learn/scikit-learn/issues/21755 */display: inline-block !important;position: relative;}#sk-container-id-2 div.sk-text-repr-fallback {display: none;}</style><div id=\"sk-container-id-2\" class=\"sk-top-container\"><div class=\"sk-text-repr-fallback\"><pre>Pipeline(steps=[(&#x27;preprocessing&#x27;,\n",
       "                 ColumnTransformer(remainder=&#x27;passthrough&#x27;,\n",
       "                                   transformers=[(&#x27;scaler&#x27;, RobustScaler(),\n",
       "                                                  [&#x27;NFAMS&#x27;, &#x27;FAMSIZE&#x27;, &#x27;NCHILD&#x27;,\n",
       "                                                   &#x27;NCHLT5&#x27;, &#x27;NSIBS&#x27;,\n",
       "                                                   &#x27;YRIMMIG&#x27;]),\n",
       "                                                 (&#x27;onehot&#x27;,\n",
       "                                                  OneHotEncoder(handle_unknown=&#x27;ignore&#x27;),\n",
       "                                                  [&#x27;GQTYPE&#x27;, &#x27;METRO&#x27;, &#x27;INTTYPE&#x27;,\n",
       "                                                   &#x27;SEX&#x27;, &#x27;VETSTAT&#x27;, &#x27;CITIZEN&#x27;,\n",
       "                                                   &#x27;DIFFANY&#x27;, &#x27;COVIDUNAW&#x27;,\n",
       "                                                   &#x27;NATIVITY&#x27;, &#x27;COVIDPAID&#x27;]),\n",
       "                                                 (&#x27;target_econder&#x27;,\n",
       "                                                  TargetEncod...\n",
       "                                                  [&#x27;STATEFIP&#x27;, &#x27;RELATE&#x27;, &#x27;RACE&#x27;,\n",
       "                                                   &#x27;MARST&#x27;, &#x27;BPL&#x27;, &#x27;MBPL&#x27;,\n",
       "                                                   &#x27;FBPL&#x27;, &#x27;HISPAN&#x27;, &#x27;EMPSTAT&#x27;,\n",
       "                                                   &#x27;CLASSWKR&#x27;,\n",
       "                                                   &#x27;EMPSTAT_HEAD&#x27;]),\n",
       "                                                 (&#x27;imputer&#x27;,\n",
       "                                                  Pipeline(steps=[(&#x27;scaler&#x27;,\n",
       "                                                                   RobustScaler()),\n",
       "                                                                  (&#x27;imputer&#x27;,\n",
       "                                                                   IterativeImputer(random_state=42))]),\n",
       "                                                  [&#x27;UHRSWORKT&#x27;])])),\n",
       "                (&#x27;classifier&#x27;,\n",
       "                 RandomForestClassifier(class_weight=&#x27;balanced_subsample&#x27;,\n",
       "                                        min_samples_leaf=6, min_samples_split=4,\n",
       "                                        n_estimators=200))])</pre><b>In a Jupyter environment, please rerun this cell to show the HTML representation or trust the notebook. <br />On GitHub, the HTML representation is unable to render, please try loading this page with nbviewer.org.</b></div><div class=\"sk-container\" hidden><div class=\"sk-item sk-dashed-wrapped\"><div class=\"sk-label-container\"><div class=\"sk-label sk-toggleable\"><input class=\"sk-toggleable__control sk-hidden--visually\" id=\"sk-estimator-id-16\" type=\"checkbox\" ><label for=\"sk-estimator-id-16\" class=\"sk-toggleable__label sk-toggleable__label-arrow\">Pipeline</label><div class=\"sk-toggleable__content\"><pre>Pipeline(steps=[(&#x27;preprocessing&#x27;,\n",
       "                 ColumnTransformer(remainder=&#x27;passthrough&#x27;,\n",
       "                                   transformers=[(&#x27;scaler&#x27;, RobustScaler(),\n",
       "                                                  [&#x27;NFAMS&#x27;, &#x27;FAMSIZE&#x27;, &#x27;NCHILD&#x27;,\n",
       "                                                   &#x27;NCHLT5&#x27;, &#x27;NSIBS&#x27;,\n",
       "                                                   &#x27;YRIMMIG&#x27;]),\n",
       "                                                 (&#x27;onehot&#x27;,\n",
       "                                                  OneHotEncoder(handle_unknown=&#x27;ignore&#x27;),\n",
       "                                                  [&#x27;GQTYPE&#x27;, &#x27;METRO&#x27;, &#x27;INTTYPE&#x27;,\n",
       "                                                   &#x27;SEX&#x27;, &#x27;VETSTAT&#x27;, &#x27;CITIZEN&#x27;,\n",
       "                                                   &#x27;DIFFANY&#x27;, &#x27;COVIDUNAW&#x27;,\n",
       "                                                   &#x27;NATIVITY&#x27;, &#x27;COVIDPAID&#x27;]),\n",
       "                                                 (&#x27;target_econder&#x27;,\n",
       "                                                  TargetEncod...\n",
       "                                                  [&#x27;STATEFIP&#x27;, &#x27;RELATE&#x27;, &#x27;RACE&#x27;,\n",
       "                                                   &#x27;MARST&#x27;, &#x27;BPL&#x27;, &#x27;MBPL&#x27;,\n",
       "                                                   &#x27;FBPL&#x27;, &#x27;HISPAN&#x27;, &#x27;EMPSTAT&#x27;,\n",
       "                                                   &#x27;CLASSWKR&#x27;,\n",
       "                                                   &#x27;EMPSTAT_HEAD&#x27;]),\n",
       "                                                 (&#x27;imputer&#x27;,\n",
       "                                                  Pipeline(steps=[(&#x27;scaler&#x27;,\n",
       "                                                                   RobustScaler()),\n",
       "                                                                  (&#x27;imputer&#x27;,\n",
       "                                                                   IterativeImputer(random_state=42))]),\n",
       "                                                  [&#x27;UHRSWORKT&#x27;])])),\n",
       "                (&#x27;classifier&#x27;,\n",
       "                 RandomForestClassifier(class_weight=&#x27;balanced_subsample&#x27;,\n",
       "                                        min_samples_leaf=6, min_samples_split=4,\n",
       "                                        n_estimators=200))])</pre></div></div></div><div class=\"sk-serial\"><div class=\"sk-item sk-dashed-wrapped\"><div class=\"sk-label-container\"><div class=\"sk-label sk-toggleable\"><input class=\"sk-toggleable__control sk-hidden--visually\" id=\"sk-estimator-id-17\" type=\"checkbox\" ><label for=\"sk-estimator-id-17\" class=\"sk-toggleable__label sk-toggleable__label-arrow\">preprocessing: ColumnTransformer</label><div class=\"sk-toggleable__content\"><pre>ColumnTransformer(remainder=&#x27;passthrough&#x27;,\n",
       "                  transformers=[(&#x27;scaler&#x27;, RobustScaler(),\n",
       "                                 [&#x27;NFAMS&#x27;, &#x27;FAMSIZE&#x27;, &#x27;NCHILD&#x27;, &#x27;NCHLT5&#x27;,\n",
       "                                  &#x27;NSIBS&#x27;, &#x27;YRIMMIG&#x27;]),\n",
       "                                (&#x27;onehot&#x27;,\n",
       "                                 OneHotEncoder(handle_unknown=&#x27;ignore&#x27;),\n",
       "                                 [&#x27;GQTYPE&#x27;, &#x27;METRO&#x27;, &#x27;INTTYPE&#x27;, &#x27;SEX&#x27;,\n",
       "                                  &#x27;VETSTAT&#x27;, &#x27;CITIZEN&#x27;, &#x27;DIFFANY&#x27;, &#x27;COVIDUNAW&#x27;,\n",
       "                                  &#x27;NATIVITY&#x27;, &#x27;COVIDPAID&#x27;]),\n",
       "                                (&#x27;target_econder&#x27;, TargetEncoder(),\n",
       "                                 [&#x27;STATEFIP&#x27;, &#x27;RELATE&#x27;, &#x27;RACE&#x27;, &#x27;MARST&#x27;, &#x27;BPL&#x27;,\n",
       "                                  &#x27;MBPL&#x27;, &#x27;FBPL&#x27;, &#x27;HISPAN&#x27;, &#x27;EMPSTAT&#x27;,\n",
       "                                  &#x27;CLASSWKR&#x27;, &#x27;EMPSTAT_HEAD&#x27;]),\n",
       "                                (&#x27;imputer&#x27;,\n",
       "                                 Pipeline(steps=[(&#x27;scaler&#x27;, RobustScaler()),\n",
       "                                                 (&#x27;imputer&#x27;,\n",
       "                                                  IterativeImputer(random_state=42))]),\n",
       "                                 [&#x27;UHRSWORKT&#x27;])])</pre></div></div></div><div class=\"sk-parallel\"><div class=\"sk-parallel-item\"><div class=\"sk-item\"><div class=\"sk-label-container\"><div class=\"sk-label sk-toggleable\"><input class=\"sk-toggleable__control sk-hidden--visually\" id=\"sk-estimator-id-18\" type=\"checkbox\" ><label for=\"sk-estimator-id-18\" class=\"sk-toggleable__label sk-toggleable__label-arrow\">scaler</label><div class=\"sk-toggleable__content\"><pre>[&#x27;NFAMS&#x27;, &#x27;FAMSIZE&#x27;, &#x27;NCHILD&#x27;, &#x27;NCHLT5&#x27;, &#x27;NSIBS&#x27;, &#x27;YRIMMIG&#x27;]</pre></div></div></div><div class=\"sk-serial\"><div class=\"sk-item\"><div class=\"sk-estimator sk-toggleable\"><input class=\"sk-toggleable__control sk-hidden--visually\" id=\"sk-estimator-id-19\" type=\"checkbox\" ><label for=\"sk-estimator-id-19\" class=\"sk-toggleable__label sk-toggleable__label-arrow\">RobustScaler</label><div class=\"sk-toggleable__content\"><pre>RobustScaler()</pre></div></div></div></div></div></div><div class=\"sk-parallel-item\"><div class=\"sk-item\"><div class=\"sk-label-container\"><div class=\"sk-label sk-toggleable\"><input class=\"sk-toggleable__control sk-hidden--visually\" id=\"sk-estimator-id-20\" type=\"checkbox\" ><label for=\"sk-estimator-id-20\" class=\"sk-toggleable__label sk-toggleable__label-arrow\">onehot</label><div class=\"sk-toggleable__content\"><pre>[&#x27;GQTYPE&#x27;, &#x27;METRO&#x27;, &#x27;INTTYPE&#x27;, &#x27;SEX&#x27;, &#x27;VETSTAT&#x27;, &#x27;CITIZEN&#x27;, &#x27;DIFFANY&#x27;, &#x27;COVIDUNAW&#x27;, &#x27;NATIVITY&#x27;, &#x27;COVIDPAID&#x27;]</pre></div></div></div><div class=\"sk-serial\"><div class=\"sk-item\"><div class=\"sk-estimator sk-toggleable\"><input class=\"sk-toggleable__control sk-hidden--visually\" id=\"sk-estimator-id-21\" type=\"checkbox\" ><label for=\"sk-estimator-id-21\" class=\"sk-toggleable__label sk-toggleable__label-arrow\">OneHotEncoder</label><div class=\"sk-toggleable__content\"><pre>OneHotEncoder(handle_unknown=&#x27;ignore&#x27;)</pre></div></div></div></div></div></div><div class=\"sk-parallel-item\"><div class=\"sk-item\"><div class=\"sk-label-container\"><div class=\"sk-label sk-toggleable\"><input class=\"sk-toggleable__control sk-hidden--visually\" id=\"sk-estimator-id-22\" type=\"checkbox\" ><label for=\"sk-estimator-id-22\" class=\"sk-toggleable__label sk-toggleable__label-arrow\">target_econder</label><div class=\"sk-toggleable__content\"><pre>[&#x27;STATEFIP&#x27;, &#x27;RELATE&#x27;, &#x27;RACE&#x27;, &#x27;MARST&#x27;, &#x27;BPL&#x27;, &#x27;MBPL&#x27;, &#x27;FBPL&#x27;, &#x27;HISPAN&#x27;, &#x27;EMPSTAT&#x27;, &#x27;CLASSWKR&#x27;, &#x27;EMPSTAT_HEAD&#x27;]</pre></div></div></div><div class=\"sk-serial\"><div class=\"sk-item\"><div class=\"sk-estimator sk-toggleable\"><input class=\"sk-toggleable__control sk-hidden--visually\" id=\"sk-estimator-id-23\" type=\"checkbox\" ><label for=\"sk-estimator-id-23\" class=\"sk-toggleable__label sk-toggleable__label-arrow\">TargetEncoder</label><div class=\"sk-toggleable__content\"><pre>TargetEncoder()</pre></div></div></div></div></div></div><div class=\"sk-parallel-item\"><div class=\"sk-item\"><div class=\"sk-label-container\"><div class=\"sk-label sk-toggleable\"><input class=\"sk-toggleable__control sk-hidden--visually\" id=\"sk-estimator-id-24\" type=\"checkbox\" ><label for=\"sk-estimator-id-24\" class=\"sk-toggleable__label sk-toggleable__label-arrow\">imputer</label><div class=\"sk-toggleable__content\"><pre>[&#x27;UHRSWORKT&#x27;]</pre></div></div></div><div class=\"sk-serial\"><div class=\"sk-item\"><div class=\"sk-serial\"><div class=\"sk-item\"><div class=\"sk-estimator sk-toggleable\"><input class=\"sk-toggleable__control sk-hidden--visually\" id=\"sk-estimator-id-25\" type=\"checkbox\" ><label for=\"sk-estimator-id-25\" class=\"sk-toggleable__label sk-toggleable__label-arrow\">RobustScaler</label><div class=\"sk-toggleable__content\"><pre>RobustScaler()</pre></div></div></div><div class=\"sk-item\"><div class=\"sk-estimator sk-toggleable\"><input class=\"sk-toggleable__control sk-hidden--visually\" id=\"sk-estimator-id-26\" type=\"checkbox\" ><label for=\"sk-estimator-id-26\" class=\"sk-toggleable__label sk-toggleable__label-arrow\">IterativeImputer</label><div class=\"sk-toggleable__content\"><pre>IterativeImputer(random_state=42)</pre></div></div></div></div></div></div></div></div><div class=\"sk-parallel-item\"><div class=\"sk-item\"><div class=\"sk-label-container\"><div class=\"sk-label sk-toggleable\"><input class=\"sk-toggleable__control sk-hidden--visually\" id=\"sk-estimator-id-27\" type=\"checkbox\" ><label for=\"sk-estimator-id-27\" class=\"sk-toggleable__label sk-toggleable__label-arrow\">remainder</label><div class=\"sk-toggleable__content\"><pre>[&#x27;FAMINC&#x27;, &#x27;AGE&#x27;, &#x27;EDUC&#x27;, &#x27;EDUC_HEAD&#x27;, &#x27;VOTERES&#x27;]</pre></div></div></div><div class=\"sk-serial\"><div class=\"sk-item\"><div class=\"sk-estimator sk-toggleable\"><input class=\"sk-toggleable__control sk-hidden--visually\" id=\"sk-estimator-id-28\" type=\"checkbox\" ><label for=\"sk-estimator-id-28\" class=\"sk-toggleable__label sk-toggleable__label-arrow\">passthrough</label><div class=\"sk-toggleable__content\"><pre>passthrough</pre></div></div></div></div></div></div></div></div><div class=\"sk-item\"><div class=\"sk-estimator sk-toggleable\"><input class=\"sk-toggleable__control sk-hidden--visually\" id=\"sk-estimator-id-29\" type=\"checkbox\" ><label for=\"sk-estimator-id-29\" class=\"sk-toggleable__label sk-toggleable__label-arrow\">RandomForestClassifier</label><div class=\"sk-toggleable__content\"><pre>RandomForestClassifier(class_weight=&#x27;balanced_subsample&#x27;, min_samples_leaf=6,\n",
       "                       min_samples_split=4, n_estimators=200)</pre></div></div></div></div></div></div></div>"
      ],
      "text/plain": [
       "Pipeline(steps=[('preprocessing',\n",
       "                 ColumnTransformer(remainder='passthrough',\n",
       "                                   transformers=[('scaler', RobustScaler(),\n",
       "                                                  ['NFAMS', 'FAMSIZE', 'NCHILD',\n",
       "                                                   'NCHLT5', 'NSIBS',\n",
       "                                                   'YRIMMIG']),\n",
       "                                                 ('onehot',\n",
       "                                                  OneHotEncoder(handle_unknown='ignore'),\n",
       "                                                  ['GQTYPE', 'METRO', 'INTTYPE',\n",
       "                                                   'SEX', 'VETSTAT', 'CITIZEN',\n",
       "                                                   'DIFFANY', 'COVIDUNAW',\n",
       "                                                   'NATIVITY', 'COVIDPAID']),\n",
       "                                                 ('target_econder',\n",
       "                                                  TargetEncod...\n",
       "                                                  ['STATEFIP', 'RELATE', 'RACE',\n",
       "                                                   'MARST', 'BPL', 'MBPL',\n",
       "                                                   'FBPL', 'HISPAN', 'EMPSTAT',\n",
       "                                                   'CLASSWKR',\n",
       "                                                   'EMPSTAT_HEAD']),\n",
       "                                                 ('imputer',\n",
       "                                                  Pipeline(steps=[('scaler',\n",
       "                                                                   RobustScaler()),\n",
       "                                                                  ('imputer',\n",
       "                                                                   IterativeImputer(random_state=42))]),\n",
       "                                                  ['UHRSWORKT'])])),\n",
       "                ('classifier',\n",
       "                 RandomForestClassifier(class_weight='balanced_subsample',\n",
       "                                        min_samples_leaf=6, min_samples_split=4,\n",
       "                                        n_estimators=200))])"
      ]
     },
     "execution_count": 13,
     "metadata": {},
     "output_type": "execute_result"
    }
   ],
   "source": [
    "best_RF.best_estimator_"
   ]
  },
  {
   "cell_type": "code",
   "execution_count": 14,
   "id": "1007e907",
   "metadata": {
    "execution": {
     "iopub.execute_input": "2023-05-31T16:44:01.921525Z",
     "iopub.status.busy": "2023-05-31T16:44:01.920734Z",
     "iopub.status.idle": "2023-05-31T16:44:01.945462Z",
     "shell.execute_reply": "2023-05-31T16:44:01.944294Z"
    },
    "papermill": {
     "duration": 0.04271,
     "end_time": "2023-05-31T16:44:01.948059",
     "exception": false,
     "start_time": "2023-05-31T16:44:01.905349",
     "status": "completed"
    },
    "tags": []
   },
   "outputs": [
    {
     "data": {
      "text/html": [
       "<div>\n",
       "<style scoped>\n",
       "    .dataframe tbody tr th:only-of-type {\n",
       "        vertical-align: middle;\n",
       "    }\n",
       "\n",
       "    .dataframe tbody tr th {\n",
       "        vertical-align: top;\n",
       "    }\n",
       "\n",
       "    .dataframe thead th {\n",
       "        text-align: right;\n",
       "    }\n",
       "</style>\n",
       "<table border=\"1\" class=\"dataframe\">\n",
       "  <thead>\n",
       "    <tr style=\"text-align: right;\">\n",
       "      <th></th>\n",
       "      <th>param_classifier__n_estimators</th>\n",
       "      <th>param_classifier__max_depth</th>\n",
       "      <th>param_classifier__min_samples_split</th>\n",
       "      <th>param_classifier__min_samples_leaf</th>\n",
       "      <th>param_classifier__class_weight</th>\n",
       "      <th>mean_test_f1_class_0</th>\n",
       "      <th>mean_test_f1_class_1</th>\n",
       "      <th>mean_test_f1_macro</th>\n",
       "      <th>mean_test_recall_0</th>\n",
       "      <th>mean_test_precision_0</th>\n",
       "      <th>mean_test_AP_macro</th>\n",
       "      <th>mean_test_roc_auc_macro</th>\n",
       "    </tr>\n",
       "  </thead>\n",
       "  <tbody>\n",
       "    <tr>\n",
       "      <th>44</th>\n",
       "      <td>200</td>\n",
       "      <td>None</td>\n",
       "      <td>4</td>\n",
       "      <td>6</td>\n",
       "      <td>balanced_subsample</td>\n",
       "      <td>0.519</td>\n",
       "      <td>0.848</td>\n",
       "      <td>0.684</td>\n",
       "      <td>0.612</td>\n",
       "      <td>0.451</td>\n",
       "      <td>0.873</td>\n",
       "      <td>0.711</td>\n",
       "    </tr>\n",
       "    <tr>\n",
       "      <th>20</th>\n",
       "      <td>200</td>\n",
       "      <td>100</td>\n",
       "      <td>4</td>\n",
       "      <td>6</td>\n",
       "      <td>balanced</td>\n",
       "      <td>0.519</td>\n",
       "      <td>0.848</td>\n",
       "      <td>0.683</td>\n",
       "      <td>0.613</td>\n",
       "      <td>0.450</td>\n",
       "      <td>0.873</td>\n",
       "      <td>0.711</td>\n",
       "    </tr>\n",
       "    <tr>\n",
       "      <th>22</th>\n",
       "      <td>200</td>\n",
       "      <td>100</td>\n",
       "      <td>6</td>\n",
       "      <td>6</td>\n",
       "      <td>balanced</td>\n",
       "      <td>0.518</td>\n",
       "      <td>0.847</td>\n",
       "      <td>0.683</td>\n",
       "      <td>0.611</td>\n",
       "      <td>0.450</td>\n",
       "      <td>0.872</td>\n",
       "      <td>0.710</td>\n",
       "    </tr>\n",
       "    <tr>\n",
       "      <th>28</th>\n",
       "      <td>200</td>\n",
       "      <td>None</td>\n",
       "      <td>4</td>\n",
       "      <td>6</td>\n",
       "      <td>balanced</td>\n",
       "      <td>0.518</td>\n",
       "      <td>0.847</td>\n",
       "      <td>0.683</td>\n",
       "      <td>0.612</td>\n",
       "      <td>0.449</td>\n",
       "      <td>0.872</td>\n",
       "      <td>0.710</td>\n",
       "    </tr>\n",
       "    <tr>\n",
       "      <th>30</th>\n",
       "      <td>200</td>\n",
       "      <td>None</td>\n",
       "      <td>6</td>\n",
       "      <td>6</td>\n",
       "      <td>balanced</td>\n",
       "      <td>0.518</td>\n",
       "      <td>0.847</td>\n",
       "      <td>0.682</td>\n",
       "      <td>0.611</td>\n",
       "      <td>0.449</td>\n",
       "      <td>0.872</td>\n",
       "      <td>0.710</td>\n",
       "    </tr>\n",
       "  </tbody>\n",
       "</table>\n",
       "</div>"
      ],
      "text/plain": [
       "   param_classifier__n_estimators param_classifier__max_depth  \\\n",
       "44                            200                        None   \n",
       "20                            200                         100   \n",
       "22                            200                         100   \n",
       "28                            200                        None   \n",
       "30                            200                        None   \n",
       "\n",
       "   param_classifier__min_samples_split param_classifier__min_samples_leaf  \\\n",
       "44                                   4                                  6   \n",
       "20                                   4                                  6   \n",
       "22                                   6                                  6   \n",
       "28                                   4                                  6   \n",
       "30                                   6                                  6   \n",
       "\n",
       "   param_classifier__class_weight  mean_test_f1_class_0  mean_test_f1_class_1  \\\n",
       "44             balanced_subsample                 0.519                 0.848   \n",
       "20                       balanced                 0.519                 0.848   \n",
       "22                       balanced                 0.518                 0.847   \n",
       "28                       balanced                 0.518                 0.847   \n",
       "30                       balanced                 0.518                 0.847   \n",
       "\n",
       "    mean_test_f1_macro  mean_test_recall_0  mean_test_precision_0  \\\n",
       "44               0.684               0.612                  0.451   \n",
       "20               0.683               0.613                  0.450   \n",
       "22               0.683               0.611                  0.450   \n",
       "28               0.683               0.612                  0.449   \n",
       "30               0.682               0.611                  0.449   \n",
       "\n",
       "    mean_test_AP_macro  mean_test_roc_auc_macro  \n",
       "44               0.873                    0.711  \n",
       "20               0.873                    0.711  \n",
       "22               0.872                    0.710  \n",
       "28               0.872                    0.710  \n",
       "30               0.872                    0.710  "
      ]
     },
     "execution_count": 14,
     "metadata": {},
     "output_type": "execute_result"
    }
   ],
   "source": [
    "scoring_cols = ['param_classifier__n_estimators', 'param_classifier__max_depth', 'param_classifier__min_samples_split', 'param_classifier__min_samples_leaf', 'param_classifier__class_weight',\n",
    "                'mean_test_f1_class_0', 'mean_test_f1_class_1', 'mean_test_f1_macro',\n",
    "                'mean_test_recall_0', 'mean_test_precision_0', 'mean_test_AP_macro',\n",
    "                'mean_test_roc_auc_macro']\n",
    "\n",
    "pd.DataFrame(best_RF.cv_results_).sort_values(by='mean_test_f1_class_0', ascending=False)[scoring_cols].head()"
   ]
  },
  {
   "cell_type": "code",
   "execution_count": 15,
   "id": "445961a9",
   "metadata": {
    "execution": {
     "iopub.execute_input": "2023-05-31T16:44:01.977211Z",
     "iopub.status.busy": "2023-05-31T16:44:01.976756Z",
     "iopub.status.idle": "2023-05-31T16:44:01.983655Z",
     "shell.execute_reply": "2023-05-31T16:44:01.982511Z"
    },
    "papermill": {
     "duration": 0.024921,
     "end_time": "2023-05-31T16:44:01.986369",
     "exception": false,
     "start_time": "2023-05-31T16:44:01.961448",
     "status": "completed"
    },
    "tags": []
   },
   "outputs": [
    {
     "data": {
      "text/plain": [
       "{'classifier__class_weight': 'balanced_subsample',\n",
       " 'classifier__max_depth': None,\n",
       " 'classifier__min_samples_leaf': 6,\n",
       " 'classifier__min_samples_split': 4,\n",
       " 'classifier__n_estimators': 200}"
      ]
     },
     "execution_count": 15,
     "metadata": {},
     "output_type": "execute_result"
    }
   ],
   "source": [
    "rf_best_params = best_RF.best_params_\n",
    "rf_best_params"
   ]
  },
  {
   "attachments": {},
   "cell_type": "markdown",
   "id": "f6506c4d",
   "metadata": {
    "papermill": {
     "duration": 0.01363,
     "end_time": "2023-05-31T16:44:02.842474",
     "exception": false,
     "start_time": "2023-05-31T16:44:02.828844",
     "status": "completed"
    },
    "tags": []
   },
   "source": [
    "### Extra trees classifier"
   ]
  },
  {
   "cell_type": "code",
   "execution_count": 17,
   "id": "7a72319a",
   "metadata": {
    "execution": {
     "iopub.execute_input": "2023-05-31T16:44:02.872895Z",
     "iopub.status.busy": "2023-05-31T16:44:02.872434Z",
     "iopub.status.idle": "2023-05-31T18:18:10.443637Z",
     "shell.execute_reply": "2023-05-31T18:18:10.441721Z"
    },
    "papermill": {
     "duration": 5647.606665,
     "end_time": "2023-05-31T18:18:10.463192",
     "exception": false,
     "start_time": "2023-05-31T16:44:02.856527",
     "status": "completed"
    },
    "tags": []
   },
   "outputs": [
    {
     "name": "stdout",
     "output_type": "stream",
     "text": [
      "Fitting 5 folds for each of 48 candidates, totalling 240 fits\n",
      "Fitting 5 folds for each of 48 candidates, totalling 240 fits\n",
      "Fitting 5 folds for each of 48 candidates, totalling 240 fits\n",
      "Fitting 5 folds for each of 48 candidates, totalling 240 fits\n",
      "Fitting 5 folds for each of 48 candidates, totalling 240 fits\n",
      "Fitting 5 folds for each of 48 candidates, totalling 240 fits\n",
      "1:34:07.561189\n"
     ]
    }
   ],
   "source": [
    "model = ExtraTreesClassifier(class_weight='balanced')\n",
    "\n",
    "params = {\n",
    "    'classifier__n_estimators' : [150,None],\n",
    "    'classifier__max_depth' : [100,None],\n",
    "    'classifier__min_samples_split' : [4,6],\n",
    "    'classifier__min_samples_leaf' : [2,4],\n",
    "    'classifier__class_weight' : [None, 'balanced', 'balanced_subsample']\n",
    "}\n",
    "\n",
    "init_time = time()\n",
    "best_ET = hypermodel(X_train, y_train, model, params=params)\n",
    "print(timedelta(seconds=(time() - init_time)))"
   ]
  },
  {
   "cell_type": "code",
   "execution_count": 18,
   "id": "4cbfd8cd",
   "metadata": {
    "execution": {
     "iopub.execute_input": "2023-05-31T18:18:10.497505Z",
     "iopub.status.busy": "2023-05-31T18:18:10.496944Z",
     "iopub.status.idle": "2023-05-31T18:18:10.601434Z",
     "shell.execute_reply": "2023-05-31T18:18:10.599942Z"
    },
    "papermill": {
     "duration": 0.126025,
     "end_time": "2023-05-31T18:18:10.604574",
     "exception": false,
     "start_time": "2023-05-31T18:18:10.478549",
     "status": "completed"
    },
    "tags": []
   },
   "outputs": [
    {
     "data": {
      "text/html": [
       "<style>#sk-container-id-3 {color: black;background-color: white;}#sk-container-id-3 pre{padding: 0;}#sk-container-id-3 div.sk-toggleable {background-color: white;}#sk-container-id-3 label.sk-toggleable__label {cursor: pointer;display: block;width: 100%;margin-bottom: 0;padding: 0.3em;box-sizing: border-box;text-align: center;}#sk-container-id-3 label.sk-toggleable__label-arrow:before {content: \"▸\";float: left;margin-right: 0.25em;color: #696969;}#sk-container-id-3 label.sk-toggleable__label-arrow:hover:before {color: black;}#sk-container-id-3 div.sk-estimator:hover label.sk-toggleable__label-arrow:before {color: black;}#sk-container-id-3 div.sk-toggleable__content {max-height: 0;max-width: 0;overflow: hidden;text-align: left;background-color: #f0f8ff;}#sk-container-id-3 div.sk-toggleable__content pre {margin: 0.2em;color: black;border-radius: 0.25em;background-color: #f0f8ff;}#sk-container-id-3 input.sk-toggleable__control:checked~div.sk-toggleable__content {max-height: 200px;max-width: 100%;overflow: auto;}#sk-container-id-3 input.sk-toggleable__control:checked~label.sk-toggleable__label-arrow:before {content: \"▾\";}#sk-container-id-3 div.sk-estimator input.sk-toggleable__control:checked~label.sk-toggleable__label {background-color: #d4ebff;}#sk-container-id-3 div.sk-label input.sk-toggleable__control:checked~label.sk-toggleable__label {background-color: #d4ebff;}#sk-container-id-3 input.sk-hidden--visually {border: 0;clip: rect(1px 1px 1px 1px);clip: rect(1px, 1px, 1px, 1px);height: 1px;margin: -1px;overflow: hidden;padding: 0;position: absolute;width: 1px;}#sk-container-id-3 div.sk-estimator {font-family: monospace;background-color: #f0f8ff;border: 1px dotted black;border-radius: 0.25em;box-sizing: border-box;margin-bottom: 0.5em;}#sk-container-id-3 div.sk-estimator:hover {background-color: #d4ebff;}#sk-container-id-3 div.sk-parallel-item::after {content: \"\";width: 100%;border-bottom: 1px solid gray;flex-grow: 1;}#sk-container-id-3 div.sk-label:hover label.sk-toggleable__label {background-color: #d4ebff;}#sk-container-id-3 div.sk-serial::before {content: \"\";position: absolute;border-left: 1px solid gray;box-sizing: border-box;top: 0;bottom: 0;left: 50%;z-index: 0;}#sk-container-id-3 div.sk-serial {display: flex;flex-direction: column;align-items: center;background-color: white;padding-right: 0.2em;padding-left: 0.2em;position: relative;}#sk-container-id-3 div.sk-item {position: relative;z-index: 1;}#sk-container-id-3 div.sk-parallel {display: flex;align-items: stretch;justify-content: center;background-color: white;position: relative;}#sk-container-id-3 div.sk-item::before, #sk-container-id-3 div.sk-parallel-item::before {content: \"\";position: absolute;border-left: 1px solid gray;box-sizing: border-box;top: 0;bottom: 0;left: 50%;z-index: -1;}#sk-container-id-3 div.sk-parallel-item {display: flex;flex-direction: column;z-index: 1;position: relative;background-color: white;}#sk-container-id-3 div.sk-parallel-item:first-child::after {align-self: flex-end;width: 50%;}#sk-container-id-3 div.sk-parallel-item:last-child::after {align-self: flex-start;width: 50%;}#sk-container-id-3 div.sk-parallel-item:only-child::after {width: 0;}#sk-container-id-3 div.sk-dashed-wrapped {border: 1px dashed gray;margin: 0 0.4em 0.5em 0.4em;box-sizing: border-box;padding-bottom: 0.4em;background-color: white;}#sk-container-id-3 div.sk-label label {font-family: monospace;font-weight: bold;display: inline-block;line-height: 1.2em;}#sk-container-id-3 div.sk-label-container {text-align: center;}#sk-container-id-3 div.sk-container {/* jupyter's `normalize.less` sets `[hidden] { display: none; }` but bootstrap.min.css set `[hidden] { display: none !important; }` so we also need the `!important` here to be able to override the default hidden behavior on the sphinx rendered scikit-learn.org. See: https://github.com/scikit-learn/scikit-learn/issues/21755 */display: inline-block !important;position: relative;}#sk-container-id-3 div.sk-text-repr-fallback {display: none;}</style><div id=\"sk-container-id-3\" class=\"sk-top-container\"><div class=\"sk-text-repr-fallback\"><pre>Pipeline(steps=[(&#x27;preprocessing&#x27;,\n",
       "                 ColumnTransformer(remainder=&#x27;passthrough&#x27;,\n",
       "                                   transformers=[(&#x27;scaler&#x27;, RobustScaler(),\n",
       "                                                  [&#x27;NFAMS&#x27;, &#x27;FAMSIZE&#x27;, &#x27;NCHILD&#x27;,\n",
       "                                                   &#x27;NCHLT5&#x27;, &#x27;NSIBS&#x27;,\n",
       "                                                   &#x27;YRIMMIG&#x27;]),\n",
       "                                                 (&#x27;onehot&#x27;,\n",
       "                                                  OneHotEncoder(handle_unknown=&#x27;ignore&#x27;),\n",
       "                                                  [&#x27;GQTYPE&#x27;, &#x27;METRO&#x27;, &#x27;INTTYPE&#x27;,\n",
       "                                                   &#x27;SEX&#x27;, &#x27;VETSTAT&#x27;, &#x27;CITIZEN&#x27;,\n",
       "                                                   &#x27;DIFFANY&#x27;, &#x27;COVIDUNAW&#x27;,\n",
       "                                                   &#x27;NATIVITY&#x27;, &#x27;COVIDPAID&#x27;]),\n",
       "                                                 (&#x27;target_econder&#x27;,\n",
       "                                                  TargetEncod...\n",
       "                                                  [&#x27;STATEFIP&#x27;, &#x27;RELATE&#x27;, &#x27;RACE&#x27;,\n",
       "                                                   &#x27;MARST&#x27;, &#x27;BPL&#x27;, &#x27;MBPL&#x27;,\n",
       "                                                   &#x27;FBPL&#x27;, &#x27;HISPAN&#x27;, &#x27;EMPSTAT&#x27;,\n",
       "                                                   &#x27;CLASSWKR&#x27;,\n",
       "                                                   &#x27;EMPSTAT_HEAD&#x27;]),\n",
       "                                                 (&#x27;imputer&#x27;,\n",
       "                                                  Pipeline(steps=[(&#x27;scaler&#x27;,\n",
       "                                                                   RobustScaler()),\n",
       "                                                                  (&#x27;imputer&#x27;,\n",
       "                                                                   IterativeImputer(random_state=42))]),\n",
       "                                                  [&#x27;UHRSWORKT&#x27;])])),\n",
       "                (&#x27;classifier&#x27;,\n",
       "                 ExtraTreesClassifier(class_weight=&#x27;balanced_subsample&#x27;,\n",
       "                                      min_samples_leaf=4, min_samples_split=4,\n",
       "                                      n_estimators=150))])</pre><b>In a Jupyter environment, please rerun this cell to show the HTML representation or trust the notebook. <br />On GitHub, the HTML representation is unable to render, please try loading this page with nbviewer.org.</b></div><div class=\"sk-container\" hidden><div class=\"sk-item sk-dashed-wrapped\"><div class=\"sk-label-container\"><div class=\"sk-label sk-toggleable\"><input class=\"sk-toggleable__control sk-hidden--visually\" id=\"sk-estimator-id-30\" type=\"checkbox\" ><label for=\"sk-estimator-id-30\" class=\"sk-toggleable__label sk-toggleable__label-arrow\">Pipeline</label><div class=\"sk-toggleable__content\"><pre>Pipeline(steps=[(&#x27;preprocessing&#x27;,\n",
       "                 ColumnTransformer(remainder=&#x27;passthrough&#x27;,\n",
       "                                   transformers=[(&#x27;scaler&#x27;, RobustScaler(),\n",
       "                                                  [&#x27;NFAMS&#x27;, &#x27;FAMSIZE&#x27;, &#x27;NCHILD&#x27;,\n",
       "                                                   &#x27;NCHLT5&#x27;, &#x27;NSIBS&#x27;,\n",
       "                                                   &#x27;YRIMMIG&#x27;]),\n",
       "                                                 (&#x27;onehot&#x27;,\n",
       "                                                  OneHotEncoder(handle_unknown=&#x27;ignore&#x27;),\n",
       "                                                  [&#x27;GQTYPE&#x27;, &#x27;METRO&#x27;, &#x27;INTTYPE&#x27;,\n",
       "                                                   &#x27;SEX&#x27;, &#x27;VETSTAT&#x27;, &#x27;CITIZEN&#x27;,\n",
       "                                                   &#x27;DIFFANY&#x27;, &#x27;COVIDUNAW&#x27;,\n",
       "                                                   &#x27;NATIVITY&#x27;, &#x27;COVIDPAID&#x27;]),\n",
       "                                                 (&#x27;target_econder&#x27;,\n",
       "                                                  TargetEncod...\n",
       "                                                  [&#x27;STATEFIP&#x27;, &#x27;RELATE&#x27;, &#x27;RACE&#x27;,\n",
       "                                                   &#x27;MARST&#x27;, &#x27;BPL&#x27;, &#x27;MBPL&#x27;,\n",
       "                                                   &#x27;FBPL&#x27;, &#x27;HISPAN&#x27;, &#x27;EMPSTAT&#x27;,\n",
       "                                                   &#x27;CLASSWKR&#x27;,\n",
       "                                                   &#x27;EMPSTAT_HEAD&#x27;]),\n",
       "                                                 (&#x27;imputer&#x27;,\n",
       "                                                  Pipeline(steps=[(&#x27;scaler&#x27;,\n",
       "                                                                   RobustScaler()),\n",
       "                                                                  (&#x27;imputer&#x27;,\n",
       "                                                                   IterativeImputer(random_state=42))]),\n",
       "                                                  [&#x27;UHRSWORKT&#x27;])])),\n",
       "                (&#x27;classifier&#x27;,\n",
       "                 ExtraTreesClassifier(class_weight=&#x27;balanced_subsample&#x27;,\n",
       "                                      min_samples_leaf=4, min_samples_split=4,\n",
       "                                      n_estimators=150))])</pre></div></div></div><div class=\"sk-serial\"><div class=\"sk-item sk-dashed-wrapped\"><div class=\"sk-label-container\"><div class=\"sk-label sk-toggleable\"><input class=\"sk-toggleable__control sk-hidden--visually\" id=\"sk-estimator-id-31\" type=\"checkbox\" ><label for=\"sk-estimator-id-31\" class=\"sk-toggleable__label sk-toggleable__label-arrow\">preprocessing: ColumnTransformer</label><div class=\"sk-toggleable__content\"><pre>ColumnTransformer(remainder=&#x27;passthrough&#x27;,\n",
       "                  transformers=[(&#x27;scaler&#x27;, RobustScaler(),\n",
       "                                 [&#x27;NFAMS&#x27;, &#x27;FAMSIZE&#x27;, &#x27;NCHILD&#x27;, &#x27;NCHLT5&#x27;,\n",
       "                                  &#x27;NSIBS&#x27;, &#x27;YRIMMIG&#x27;]),\n",
       "                                (&#x27;onehot&#x27;,\n",
       "                                 OneHotEncoder(handle_unknown=&#x27;ignore&#x27;),\n",
       "                                 [&#x27;GQTYPE&#x27;, &#x27;METRO&#x27;, &#x27;INTTYPE&#x27;, &#x27;SEX&#x27;,\n",
       "                                  &#x27;VETSTAT&#x27;, &#x27;CITIZEN&#x27;, &#x27;DIFFANY&#x27;, &#x27;COVIDUNAW&#x27;,\n",
       "                                  &#x27;NATIVITY&#x27;, &#x27;COVIDPAID&#x27;]),\n",
       "                                (&#x27;target_econder&#x27;, TargetEncoder(),\n",
       "                                 [&#x27;STATEFIP&#x27;, &#x27;RELATE&#x27;, &#x27;RACE&#x27;, &#x27;MARST&#x27;, &#x27;BPL&#x27;,\n",
       "                                  &#x27;MBPL&#x27;, &#x27;FBPL&#x27;, &#x27;HISPAN&#x27;, &#x27;EMPSTAT&#x27;,\n",
       "                                  &#x27;CLASSWKR&#x27;, &#x27;EMPSTAT_HEAD&#x27;]),\n",
       "                                (&#x27;imputer&#x27;,\n",
       "                                 Pipeline(steps=[(&#x27;scaler&#x27;, RobustScaler()),\n",
       "                                                 (&#x27;imputer&#x27;,\n",
       "                                                  IterativeImputer(random_state=42))]),\n",
       "                                 [&#x27;UHRSWORKT&#x27;])])</pre></div></div></div><div class=\"sk-parallel\"><div class=\"sk-parallel-item\"><div class=\"sk-item\"><div class=\"sk-label-container\"><div class=\"sk-label sk-toggleable\"><input class=\"sk-toggleable__control sk-hidden--visually\" id=\"sk-estimator-id-32\" type=\"checkbox\" ><label for=\"sk-estimator-id-32\" class=\"sk-toggleable__label sk-toggleable__label-arrow\">scaler</label><div class=\"sk-toggleable__content\"><pre>[&#x27;NFAMS&#x27;, &#x27;FAMSIZE&#x27;, &#x27;NCHILD&#x27;, &#x27;NCHLT5&#x27;, &#x27;NSIBS&#x27;, &#x27;YRIMMIG&#x27;]</pre></div></div></div><div class=\"sk-serial\"><div class=\"sk-item\"><div class=\"sk-estimator sk-toggleable\"><input class=\"sk-toggleable__control sk-hidden--visually\" id=\"sk-estimator-id-33\" type=\"checkbox\" ><label for=\"sk-estimator-id-33\" class=\"sk-toggleable__label sk-toggleable__label-arrow\">RobustScaler</label><div class=\"sk-toggleable__content\"><pre>RobustScaler()</pre></div></div></div></div></div></div><div class=\"sk-parallel-item\"><div class=\"sk-item\"><div class=\"sk-label-container\"><div class=\"sk-label sk-toggleable\"><input class=\"sk-toggleable__control sk-hidden--visually\" id=\"sk-estimator-id-34\" type=\"checkbox\" ><label for=\"sk-estimator-id-34\" class=\"sk-toggleable__label sk-toggleable__label-arrow\">onehot</label><div class=\"sk-toggleable__content\"><pre>[&#x27;GQTYPE&#x27;, &#x27;METRO&#x27;, &#x27;INTTYPE&#x27;, &#x27;SEX&#x27;, &#x27;VETSTAT&#x27;, &#x27;CITIZEN&#x27;, &#x27;DIFFANY&#x27;, &#x27;COVIDUNAW&#x27;, &#x27;NATIVITY&#x27;, &#x27;COVIDPAID&#x27;]</pre></div></div></div><div class=\"sk-serial\"><div class=\"sk-item\"><div class=\"sk-estimator sk-toggleable\"><input class=\"sk-toggleable__control sk-hidden--visually\" id=\"sk-estimator-id-35\" type=\"checkbox\" ><label for=\"sk-estimator-id-35\" class=\"sk-toggleable__label sk-toggleable__label-arrow\">OneHotEncoder</label><div class=\"sk-toggleable__content\"><pre>OneHotEncoder(handle_unknown=&#x27;ignore&#x27;)</pre></div></div></div></div></div></div><div class=\"sk-parallel-item\"><div class=\"sk-item\"><div class=\"sk-label-container\"><div class=\"sk-label sk-toggleable\"><input class=\"sk-toggleable__control sk-hidden--visually\" id=\"sk-estimator-id-36\" type=\"checkbox\" ><label for=\"sk-estimator-id-36\" class=\"sk-toggleable__label sk-toggleable__label-arrow\">target_econder</label><div class=\"sk-toggleable__content\"><pre>[&#x27;STATEFIP&#x27;, &#x27;RELATE&#x27;, &#x27;RACE&#x27;, &#x27;MARST&#x27;, &#x27;BPL&#x27;, &#x27;MBPL&#x27;, &#x27;FBPL&#x27;, &#x27;HISPAN&#x27;, &#x27;EMPSTAT&#x27;, &#x27;CLASSWKR&#x27;, &#x27;EMPSTAT_HEAD&#x27;]</pre></div></div></div><div class=\"sk-serial\"><div class=\"sk-item\"><div class=\"sk-estimator sk-toggleable\"><input class=\"sk-toggleable__control sk-hidden--visually\" id=\"sk-estimator-id-37\" type=\"checkbox\" ><label for=\"sk-estimator-id-37\" class=\"sk-toggleable__label sk-toggleable__label-arrow\">TargetEncoder</label><div class=\"sk-toggleable__content\"><pre>TargetEncoder()</pre></div></div></div></div></div></div><div class=\"sk-parallel-item\"><div class=\"sk-item\"><div class=\"sk-label-container\"><div class=\"sk-label sk-toggleable\"><input class=\"sk-toggleable__control sk-hidden--visually\" id=\"sk-estimator-id-38\" type=\"checkbox\" ><label for=\"sk-estimator-id-38\" class=\"sk-toggleable__label sk-toggleable__label-arrow\">imputer</label><div class=\"sk-toggleable__content\"><pre>[&#x27;UHRSWORKT&#x27;]</pre></div></div></div><div class=\"sk-serial\"><div class=\"sk-item\"><div class=\"sk-serial\"><div class=\"sk-item\"><div class=\"sk-estimator sk-toggleable\"><input class=\"sk-toggleable__control sk-hidden--visually\" id=\"sk-estimator-id-39\" type=\"checkbox\" ><label for=\"sk-estimator-id-39\" class=\"sk-toggleable__label sk-toggleable__label-arrow\">RobustScaler</label><div class=\"sk-toggleable__content\"><pre>RobustScaler()</pre></div></div></div><div class=\"sk-item\"><div class=\"sk-estimator sk-toggleable\"><input class=\"sk-toggleable__control sk-hidden--visually\" id=\"sk-estimator-id-40\" type=\"checkbox\" ><label for=\"sk-estimator-id-40\" class=\"sk-toggleable__label sk-toggleable__label-arrow\">IterativeImputer</label><div class=\"sk-toggleable__content\"><pre>IterativeImputer(random_state=42)</pre></div></div></div></div></div></div></div></div><div class=\"sk-parallel-item\"><div class=\"sk-item\"><div class=\"sk-label-container\"><div class=\"sk-label sk-toggleable\"><input class=\"sk-toggleable__control sk-hidden--visually\" id=\"sk-estimator-id-41\" type=\"checkbox\" ><label for=\"sk-estimator-id-41\" class=\"sk-toggleable__label sk-toggleable__label-arrow\">remainder</label><div class=\"sk-toggleable__content\"><pre>[&#x27;FAMINC&#x27;, &#x27;AGE&#x27;, &#x27;EDUC&#x27;, &#x27;EDUC_HEAD&#x27;, &#x27;VOTERES&#x27;]</pre></div></div></div><div class=\"sk-serial\"><div class=\"sk-item\"><div class=\"sk-estimator sk-toggleable\"><input class=\"sk-toggleable__control sk-hidden--visually\" id=\"sk-estimator-id-42\" type=\"checkbox\" ><label for=\"sk-estimator-id-42\" class=\"sk-toggleable__label sk-toggleable__label-arrow\">passthrough</label><div class=\"sk-toggleable__content\"><pre>passthrough</pre></div></div></div></div></div></div></div></div><div class=\"sk-item\"><div class=\"sk-estimator sk-toggleable\"><input class=\"sk-toggleable__control sk-hidden--visually\" id=\"sk-estimator-id-43\" type=\"checkbox\" ><label for=\"sk-estimator-id-43\" class=\"sk-toggleable__label sk-toggleable__label-arrow\">ExtraTreesClassifier</label><div class=\"sk-toggleable__content\"><pre>ExtraTreesClassifier(class_weight=&#x27;balanced_subsample&#x27;, min_samples_leaf=4,\n",
       "                     min_samples_split=4, n_estimators=150)</pre></div></div></div></div></div></div></div>"
      ],
      "text/plain": [
       "Pipeline(steps=[('preprocessing',\n",
       "                 ColumnTransformer(remainder='passthrough',\n",
       "                                   transformers=[('scaler', RobustScaler(),\n",
       "                                                  ['NFAMS', 'FAMSIZE', 'NCHILD',\n",
       "                                                   'NCHLT5', 'NSIBS',\n",
       "                                                   'YRIMMIG']),\n",
       "                                                 ('onehot',\n",
       "                                                  OneHotEncoder(handle_unknown='ignore'),\n",
       "                                                  ['GQTYPE', 'METRO', 'INTTYPE',\n",
       "                                                   'SEX', 'VETSTAT', 'CITIZEN',\n",
       "                                                   'DIFFANY', 'COVIDUNAW',\n",
       "                                                   'NATIVITY', 'COVIDPAID']),\n",
       "                                                 ('target_econder',\n",
       "                                                  TargetEncod...\n",
       "                                                  ['STATEFIP', 'RELATE', 'RACE',\n",
       "                                                   'MARST', 'BPL', 'MBPL',\n",
       "                                                   'FBPL', 'HISPAN', 'EMPSTAT',\n",
       "                                                   'CLASSWKR',\n",
       "                                                   'EMPSTAT_HEAD']),\n",
       "                                                 ('imputer',\n",
       "                                                  Pipeline(steps=[('scaler',\n",
       "                                                                   RobustScaler()),\n",
       "                                                                  ('imputer',\n",
       "                                                                   IterativeImputer(random_state=42))]),\n",
       "                                                  ['UHRSWORKT'])])),\n",
       "                ('classifier',\n",
       "                 ExtraTreesClassifier(class_weight='balanced_subsample',\n",
       "                                      min_samples_leaf=4, min_samples_split=4,\n",
       "                                      n_estimators=150))])"
      ]
     },
     "execution_count": 18,
     "metadata": {},
     "output_type": "execute_result"
    }
   ],
   "source": [
    "best_ET.best_estimator_"
   ]
  },
  {
   "cell_type": "code",
   "execution_count": 19,
   "id": "c92cc0e9",
   "metadata": {
    "execution": {
     "iopub.execute_input": "2023-05-31T18:18:10.640103Z",
     "iopub.status.busy": "2023-05-31T18:18:10.639634Z",
     "iopub.status.idle": "2023-05-31T18:18:10.667552Z",
     "shell.execute_reply": "2023-05-31T18:18:10.666271Z"
    },
    "papermill": {
     "duration": 0.049606,
     "end_time": "2023-05-31T18:18:10.670482",
     "exception": false,
     "start_time": "2023-05-31T18:18:10.620876",
     "status": "completed"
    },
    "tags": []
   },
   "outputs": [
    {
     "data": {
      "text/html": [
       "<div>\n",
       "<style scoped>\n",
       "    .dataframe tbody tr th:only-of-type {\n",
       "        vertical-align: middle;\n",
       "    }\n",
       "\n",
       "    .dataframe tbody tr th {\n",
       "        vertical-align: top;\n",
       "    }\n",
       "\n",
       "    .dataframe thead th {\n",
       "        text-align: right;\n",
       "    }\n",
       "</style>\n",
       "<table border=\"1\" class=\"dataframe\">\n",
       "  <thead>\n",
       "    <tr style=\"text-align: right;\">\n",
       "      <th></th>\n",
       "      <th>param_classifier__n_estimators</th>\n",
       "      <th>param_classifier__max_depth</th>\n",
       "      <th>param_classifier__min_samples_split</th>\n",
       "      <th>param_classifier__min_samples_leaf</th>\n",
       "      <th>param_classifier__class_weight</th>\n",
       "      <th>mean_test_f1_class_0</th>\n",
       "      <th>mean_test_f1_class_1</th>\n",
       "      <th>mean_test_f1_macro</th>\n",
       "      <th>mean_test_recall_0</th>\n",
       "      <th>mean_test_precision_0</th>\n",
       "      <th>mean_test_AP_macro</th>\n",
       "      <th>mean_test_roc_auc_macro</th>\n",
       "    </tr>\n",
       "  </thead>\n",
       "  <tbody>\n",
       "    <tr>\n",
       "      <th>44</th>\n",
       "      <td>150</td>\n",
       "      <td>None</td>\n",
       "      <td>4</td>\n",
       "      <td>4</td>\n",
       "      <td>balanced_subsample</td>\n",
       "      <td>0.515</td>\n",
       "      <td>0.835</td>\n",
       "      <td>0.675</td>\n",
       "      <td>0.643</td>\n",
       "      <td>0.430</td>\n",
       "      <td>0.874</td>\n",
       "      <td>0.712</td>\n",
       "    </tr>\n",
       "    <tr>\n",
       "      <th>22</th>\n",
       "      <td>150</td>\n",
       "      <td>100</td>\n",
       "      <td>6</td>\n",
       "      <td>4</td>\n",
       "      <td>balanced</td>\n",
       "      <td>0.514</td>\n",
       "      <td>0.834</td>\n",
       "      <td>0.674</td>\n",
       "      <td>0.642</td>\n",
       "      <td>0.429</td>\n",
       "      <td>0.873</td>\n",
       "      <td>0.712</td>\n",
       "    </tr>\n",
       "    <tr>\n",
       "      <th>30</th>\n",
       "      <td>150</td>\n",
       "      <td>None</td>\n",
       "      <td>6</td>\n",
       "      <td>4</td>\n",
       "      <td>balanced</td>\n",
       "      <td>0.513</td>\n",
       "      <td>0.834</td>\n",
       "      <td>0.673</td>\n",
       "      <td>0.641</td>\n",
       "      <td>0.428</td>\n",
       "      <td>0.873</td>\n",
       "      <td>0.710</td>\n",
       "    </tr>\n",
       "    <tr>\n",
       "      <th>38</th>\n",
       "      <td>150</td>\n",
       "      <td>100</td>\n",
       "      <td>6</td>\n",
       "      <td>4</td>\n",
       "      <td>balanced_subsample</td>\n",
       "      <td>0.512</td>\n",
       "      <td>0.834</td>\n",
       "      <td>0.673</td>\n",
       "      <td>0.638</td>\n",
       "      <td>0.428</td>\n",
       "      <td>0.873</td>\n",
       "      <td>0.710</td>\n",
       "    </tr>\n",
       "    <tr>\n",
       "      <th>46</th>\n",
       "      <td>150</td>\n",
       "      <td>None</td>\n",
       "      <td>6</td>\n",
       "      <td>4</td>\n",
       "      <td>balanced_subsample</td>\n",
       "      <td>0.512</td>\n",
       "      <td>0.834</td>\n",
       "      <td>0.673</td>\n",
       "      <td>0.638</td>\n",
       "      <td>0.428</td>\n",
       "      <td>0.873</td>\n",
       "      <td>0.710</td>\n",
       "    </tr>\n",
       "  </tbody>\n",
       "</table>\n",
       "</div>"
      ],
      "text/plain": [
       "   param_classifier__n_estimators param_classifier__max_depth  \\\n",
       "44                            150                        None   \n",
       "22                            150                         100   \n",
       "30                            150                        None   \n",
       "38                            150                         100   \n",
       "46                            150                        None   \n",
       "\n",
       "   param_classifier__min_samples_split param_classifier__min_samples_leaf  \\\n",
       "44                                   4                                  4   \n",
       "22                                   6                                  4   \n",
       "30                                   6                                  4   \n",
       "38                                   6                                  4   \n",
       "46                                   6                                  4   \n",
       "\n",
       "   param_classifier__class_weight  mean_test_f1_class_0  mean_test_f1_class_1  \\\n",
       "44             balanced_subsample                 0.515                 0.835   \n",
       "22                       balanced                 0.514                 0.834   \n",
       "30                       balanced                 0.513                 0.834   \n",
       "38             balanced_subsample                 0.512                 0.834   \n",
       "46             balanced_subsample                 0.512                 0.834   \n",
       "\n",
       "    mean_test_f1_macro  mean_test_recall_0  mean_test_precision_0  \\\n",
       "44               0.675               0.643                  0.430   \n",
       "22               0.674               0.642                  0.429   \n",
       "30               0.673               0.641                  0.428   \n",
       "38               0.673               0.638                  0.428   \n",
       "46               0.673               0.638                  0.428   \n",
       "\n",
       "    mean_test_AP_macro  mean_test_roc_auc_macro  \n",
       "44               0.874                    0.712  \n",
       "22               0.873                    0.712  \n",
       "30               0.873                    0.710  \n",
       "38               0.873                    0.710  \n",
       "46               0.873                    0.710  "
      ]
     },
     "execution_count": 19,
     "metadata": {},
     "output_type": "execute_result"
    }
   ],
   "source": [
    "scoring_cols = [ 'param_classifier__n_estimators', 'param_classifier__max_depth', 'param_classifier__min_samples_split',\n",
    "                'param_classifier__min_samples_leaf', 'param_classifier__class_weight',\n",
    "                'mean_test_f1_class_0', 'mean_test_f1_class_1', 'mean_test_f1_macro',\n",
    "                'mean_test_recall_0', 'mean_test_precision_0', 'mean_test_AP_macro',\n",
    "                'mean_test_roc_auc_macro']\n",
    "\n",
    "pd.DataFrame(best_ET.cv_results_).sort_values(by='mean_test_f1_class_0', ascending=False)[scoring_cols].head()"
   ]
  },
  {
   "cell_type": "code",
   "execution_count": 20,
   "id": "7676a17a",
   "metadata": {
    "execution": {
     "iopub.execute_input": "2023-05-31T18:18:10.705264Z",
     "iopub.status.busy": "2023-05-31T18:18:10.704773Z",
     "iopub.status.idle": "2023-05-31T18:18:10.713708Z",
     "shell.execute_reply": "2023-05-31T18:18:10.712334Z"
    },
    "papermill": {
     "duration": 0.030071,
     "end_time": "2023-05-31T18:18:10.716584",
     "exception": false,
     "start_time": "2023-05-31T18:18:10.686513",
     "status": "completed"
    },
    "tags": []
   },
   "outputs": [
    {
     "data": {
      "text/plain": [
       "{'classifier__class_weight': 'balanced_subsample',\n",
       " 'classifier__max_depth': None,\n",
       " 'classifier__min_samples_leaf': 4,\n",
       " 'classifier__min_samples_split': 4,\n",
       " 'classifier__n_estimators': 150}"
      ]
     },
     "execution_count": 20,
     "metadata": {},
     "output_type": "execute_result"
    }
   ],
   "source": [
    "ET_best_params = best_ET.best_params_\n",
    "ET_best_params"
   ]
  }
 ],
 "metadata": {
  "kernelspec": {
   "display_name": "Python 3",
   "language": "python",
   "name": "python3"
  },
  "language_info": {
   "codemirror_mode": {
    "name": "ipython",
    "version": 3
   },
   "file_extension": ".py",
   "mimetype": "text/x-python",
   "name": "python",
   "nbconvert_exporter": "python",
   "pygments_lexer": "ipython3",
   "version": "3.10.10"
  },
  "papermill": {
   "default_parameters": {},
   "duration": 30269.745573,
   "end_time": "2023-05-31T18:18:14.244514",
   "environment_variables": {},
   "exception": null,
   "input_path": "__notebook__.ipynb",
   "output_path": "__notebook__.ipynb",
   "parameters": {},
   "start_time": "2023-05-31T09:53:44.498941",
   "version": "2.4.0"
  }
 },
 "nbformat": 4,
 "nbformat_minor": 5
}
